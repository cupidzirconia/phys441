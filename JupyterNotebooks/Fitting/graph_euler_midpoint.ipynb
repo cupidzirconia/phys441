{
 "cells": [
  {
   "cell_type": "code",
   "execution_count": 1,
   "metadata": {
    "ExecuteTime": {
     "end_time": "2023-08-25T13:13:21.002030900Z",
     "start_time": "2023-08-25T13:13:20.969750700Z"
    }
   },
   "outputs": [],
   "source": [
    "from array import array\n",
    "import math"
   ]
  },
  {
   "cell_type": "code",
   "execution_count": 2,
   "metadata": {
    "ExecuteTime": {
     "end_time": "2023-08-25T13:13:23.617868Z",
     "start_time": "2023-08-25T13:13:23.568923Z"
    }
   },
   "outputs": [],
   "source": [
    "def fderiv(y,t,deriv):\n",
    "    a = 1.0/3.0\n",
    "    #Example 1\n",
    "    #b = 2.0\n",
    "    #Example 2\n",
    "    b = -2.0\n",
    "    deriv[0] = a*y[0]*y[0]*math.exp(b*t)"
   ]
  },
  {
   "cell_type": "code",
   "execution_count": 3,
   "metadata": {
    "ExecuteTime": {
     "end_time": "2023-08-25T13:13:25.384547200Z",
     "start_time": "2023-08-25T13:13:25.352118400Z"
    }
   },
   "outputs": [],
   "source": [
    "def yexact(t):\n",
    "    #Example 1\n",
    "    #return -6.0/(-7.0+math.exp(2.0*t))\n",
    "    #Example 2\n",
    "    return -6.0*math.exp(2*t)/(-5.0*math.exp(2.0*t)-1)"
   ]
  },
  {
   "cell_type": "code",
   "execution_count": 4,
   "metadata": {
    "ExecuteTime": {
     "end_time": "2023-08-25T13:13:26.219691900Z",
     "start_time": "2023-08-25T13:13:26.175993700Z"
    }
   },
   "outputs": [],
   "source": [
    "def euler(y,nY,t,tau,deriv):\n",
    "    F1 = array('d')\n",
    "    \n",
    "    for i in range(0,nY):\n",
    "        F1.append(0.0)\n",
    "    \n",
    "    fderiv(y,t,F1)\n",
    "    \n",
    "    for i in range(0,nY):\n",
    "        y[i] = y[i] + tau*F1[i]"
   ]
  },
  {
   "cell_type": "code",
   "execution_count": 5,
   "metadata": {
    "ExecuteTime": {
     "end_time": "2023-08-25T13:13:26.990230Z",
     "start_time": "2023-08-25T13:13:26.947512200Z"
    }
   },
   "outputs": [],
   "source": [
    "# y' = 1/3*y^2*e^(2t)\n",
    "\n",
    "#Example 1\n",
    "#nStep = 53\n",
    "#tau = .02\n",
    "#Example 2\n",
    "nStep = 50\n",
    "tau = 0.2\n",
    "\n",
    "# Everything below this point is calculated.\n",
    "y0 = 1\n",
    "yp0 = 0\n",
    "\n",
    "tlow = 0\n",
    "thigh = tlow + (nStep-1)*tau\n",
    "#print(tlow,thigh)\n",
    "\n",
    "yy = array('d')\n",
    "tt = array('d')\n",
    "nexact = 1000\n",
    "dt = (thigh-tlow)/nexact\n",
    "for i in range(0,nexact+1):\n",
    "    texact = tlow + i*dt\n",
    "    yy.append(yexact(texact))\n",
    "    tt.append(texact)\n",
    "#print(yy,tt)"
   ]
  },
  {
   "cell_type": "code",
   "execution_count": 5,
   "metadata": {
    "ExecuteTime": {
     "end_time": "2023-08-25T13:13:28.180139300Z",
     "start_time": "2023-08-25T13:13:28.138197900Z"
    }
   },
   "outputs": [],
   "source": []
  },
  {
   "cell_type": "code",
   "execution_count": 6,
   "metadata": {
    "ExecuteTime": {
     "end_time": "2023-08-25T13:13:30.900750100Z",
     "start_time": "2023-08-25T13:13:30.879275900Z"
    }
   },
   "outputs": [],
   "source": [
    "yplot1 = array('d')\n",
    "yplot2 = array('d')\n",
    "yplot3 = array('d')\n",
    "yplot4 = array('d')\n",
    "\n",
    "y1 = array('d')\n",
    "y2 = array('d')\n",
    "y3 = array('d')\n",
    "y4 = array('d')\n",
    "\n",
    "tplot1 = array('d')\n",
    "tplot2 = array('d')\n",
    "tplot3 = array('d')\n",
    "tplot4 = array('d')\n",
    "\n",
    "deriv1 = array('d')\n",
    "deriv2 = array('d')\n",
    "deriv3 = array('d')\n",
    "deriv4 = array('d')\n",
    "\n",
    "state1 = array('d')\n",
    "state2 = array('d')\n",
    "state3 = array('d')\n",
    "state4 = array('d')\n",
    "\n",
    "nState = 1\n",
    "\n",
    "y1.append(y0)\n",
    "y2.append(y0)\n",
    "y3.append(y0)\n",
    "y4.append(y0)\n",
    "\n",
    "state1.append(y1[0])\n",
    "state2.append(y2[0])\n",
    "state3.append(y3[0])\n",
    "state4.append(y3[0])\n",
    "\n",
    "for i in range(0,nState):\n",
    "    deriv1.append(yp0)\n",
    "    deriv2.append(yp0)\n",
    "    deriv3.append(yp0)\n",
    "    deriv4.append(yp0)"
   ]
  },
  {
   "cell_type": "code",
   "execution_count": 7,
   "metadata": {
    "ExecuteTime": {
     "end_time": "2023-08-25T13:13:33.128083300Z",
     "start_time": "2023-08-25T13:13:33.096110Z"
    }
   },
   "outputs": [],
   "source": [
    "def rk2(y,nY,t,tau,deriv):\n",
    "    F1 = array('d')\n",
    "    F2 = array('d')\n",
    "    ytemp = array('d')\n",
    "    \n",
    "    for i in range(0,nY):\n",
    "        F1.append(0.0)\n",
    "        F2.append(0.0)\n",
    "        ytemp.append(0.0)\n",
    "    \n",
    "    fderiv(y,t,F1)\n",
    "    \n",
    "    half_tau = 0.5*tau\n",
    "    t_half = t + half_tau\n",
    "    \n",
    "    for i in range(0,nY):\n",
    "        ytemp[i]=y[i]+half_tau*F1[i]\n",
    "        \n",
    "    fderiv(ytemp,t_half,F2)\n",
    "        \n",
    "    for i in range(0,nY):\n",
    "        y[i] = y[i] + tau*F2[i]"
   ]
  },
  {
   "cell_type": "code",
   "execution_count": 8,
   "metadata": {
    "ExecuteTime": {
     "end_time": "2023-08-25T13:13:34.016177400Z",
     "start_time": "2023-08-25T13:13:33.988376600Z"
    }
   },
   "outputs": [],
   "source": [
    "for method in range(1,5):\n",
    "    time = 0.0\n",
    "    for iStep in range(0,nStep):\n",
    "        if (method == 1):\n",
    "            # Euler Method\n",
    "            yplot1.append(y1[0])\n",
    "            tplot1.append(time)\n",
    "            euler(state1,nState,time,tau,deriv1)\n",
    "            y1[0] = state1[0]\n",
    "            time = time + tau\n",
    "        else:\n",
    "            if (method == 2):\n",
    "                # Explicit Midpoint Method\n",
    "                yplot2.append(y2[0])\n",
    "                tplot2.append(time)\n",
    "\n",
    "                euler(state2,nState,time,tau/2.0,deriv2)\n",
    "                time = time + tau/2.0\n",
    "                \n",
    "                yplot2.append(y2[0])\n",
    "                tplot2.append(time)\n",
    "                \n",
    "                euler(state2,nState,time,tau/2.0,deriv2)\n",
    "                y2[0] = state2[0]\n",
    "                time = time + tau/2.0\n",
    "            else:\n",
    "                if (method == 3):\n",
    "                    # Implicit Midpoint Method\n",
    "                    yplot3.append(y3[0])\n",
    "                    tplot3.append(time)\n",
    "                \n",
    "                    yorig = state3[0]\n",
    "                    euler(state3,nState,time,tau,deriv3)\n",
    "                    state3[0] = (state3[0]+yorig)/2.0\n",
    "                    y3[0] = state3[0]\n",
    "                    time = time + tau/2.0\n",
    "                    \n",
    "                    yplot3.append(y3[0])\n",
    "                    tplot3.append(time)\n",
    "                    \n",
    "                    euler(state3,nState,time,tau/2.0,deriv3)\n",
    "                    y3[0] = state3[0]\n",
    "                    time = time + tau/2.0\n",
    "                else:\n",
    "                    if (method == 4):\n",
    "                        # Second Order Runge-Kutta Method\n",
    "                        yplot4.append(y4[0])\n",
    "                        tplot4.append(time)\n",
    "                        rk2(state4,nState,time,tau,deriv4)\n",
    "                        y4[0]=state4[0]\n",
    "                        time = time + tau"
   ]
  },
  {
   "cell_type": "code",
   "execution_count": 9,
   "metadata": {
    "ExecuteTime": {
     "end_time": "2023-08-25T13:13:38.701924Z",
     "start_time": "2023-08-25T13:13:36.401376100Z"
    }
   },
   "outputs": [
    {
     "data": {
      "text/plain": "<Figure size 640x480 with 1 Axes>",
      "image/png": "[encoded data removed]"
     },
     "metadata": {},
     "output_type": "display_data"
    }
   ],
   "source": [
    "import matplotlib.pyplot as plt\n",
    "\n",
    "# Create figure and axes\n",
    "fig, ax = plt.subplots()\n",
    "\n",
    "# Example 1\n",
    "# ax.set_ylim(-3, 40)\n",
    "\n",
    "# Example 2\n",
    "ax.set_ylim(1.1, 1.3)\n",
    "\n",
    "# Plotting data\n",
    "ax.plot(tplot1, yplot1, '.', color='r', markerfacecolor='none', label='Euler')\n",
    "ax.plot(tplot2, yplot2, '.', color='g', markerfacecolor='none', label='Explicit Midpoint')\n",
    "ax.plot(tplot3, yplot3, '.', color='b', markerfacecolor='none', label='Implicit Midpoint')\n",
    "ax.plot(tplot4, yplot4, '.', color='m', markerfacecolor='none', label='2nd Order R-K')\n",
    "ax.plot(tt, yy, 'b-', label='Exact')\n",
    "\n",
    "# Set labels and title\n",
    "ax.set_xlabel('Time')\n",
    "ax.set_ylabel('Y')\n",
    "ax.set_title('Example Differential Equation')\n",
    "\n",
    "# Add legend\n",
    "ax.legend()\n",
    "ax.grid(True)\n",
    "\n",
    "# Show the plot\n",
    "plt.show()\n"
   ]
  },
  {
   "cell_type": "code",
   "execution_count": 9,
   "metadata": {
    "ExecuteTime": {
     "end_time": "2023-07-16T17:57:13.269816Z",
     "start_time": "2023-07-16T17:57:13.266997Z"
    }
   },
   "outputs": [],
   "source": []
  },
  {
   "cell_type": "code",
   "execution_count": 9,
   "metadata": {
    "ExecuteTime": {
     "end_time": "2023-07-16T17:57:13.273688Z",
     "start_time": "2023-07-16T17:57:13.270200Z"
    }
   },
   "outputs": [],
   "source": []
  },
  {
   "cell_type": "code",
   "execution_count": 9,
   "metadata": {
    "ExecuteTime": {
     "end_time": "2023-07-16T17:57:13.276447Z",
     "start_time": "2023-07-16T17:57:13.274330Z"
    }
   },
   "outputs": [],
   "source": []
  }
 ],
 "metadata": {
  "kernelspec": {
   "display_name": "Python 3",
   "language": "python",
   "name": "python3"
  },
  "language_info": {
   "codemirror_mode": {
    "name": "ipython",
    "version": 3
   },
   "file_extension": ".py",
   "mimetype": "text/x-python",
   "name": "python",
   "nbconvert_exporter": "python",
   "pygments_lexer": "ipython3",
   "version": "3.6.8"
  }
 },
 "nbformat": 4,
 "nbformat_minor": 2
}
