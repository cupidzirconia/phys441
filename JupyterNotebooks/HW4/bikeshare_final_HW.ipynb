{
 "cells": [
  {
   "cell_type": "markdown",
   "id": "victorian-latitude",
   "metadata": {},
   "source": [
    "# Bike Share System"
   ]
  },
  {
   "cell_type": "markdown",
   "id": "imported-table",
   "metadata": {
    "tags": []
   },
   "source": [
    "*Modeling and Simulation in Python*\n",
    "\n",
    "Copyright 2021 Allen Downey\n",
    "\n",
    "License: [Creative Commons Attribution-NonCommercial-ShareAlike 4.0 International](https://creativecommons.org/licenses/by-nc-sa/4.0/)"
   ]
  },
  {
   "cell_type": "code",
   "execution_count": 6,
   "id": "electoral-turkey",
   "metadata": {
    "tags": [],
    "ExecuteTime": {
     "end_time": "2023-11-06T19:08:28.543552800Z",
     "start_time": "2023-11-06T19:08:27.631687900Z"
    }
   },
   "outputs": [],
   "source": [
    "# import functions from modsim\n",
    "from modsim_HW import *"
   ]
  },
  {
   "cell_type": "code",
   "execution_count": 7,
   "id": "formal-context",
   "metadata": {
    "tags": [],
    "ExecuteTime": {
     "end_time": "2023-11-06T19:08:28.560550100Z",
     "start_time": "2023-11-06T19:08:27.635676700Z"
    }
   },
   "outputs": [],
   "source": [
    "def step(state, p1, p2):\n",
    "    \"\"\"Simulate one time step.\n",
    "    \n",
    "    state: bikeshare State object\n",
    "    p1: probability of an Olin->Wellesley ride\n",
    "    p2: probability of a Wellesley->Olin ride\n",
    "    \"\"\"\n",
    "    if flip(p1):\n",
    "        bike_to_wellesley(state)\n",
    "    \n",
    "    if flip(p2):\n",
    "        bike_to_olin(state)\n",
    "        \n",
    "def bike_to_olin(state):\n",
    "    \"\"\"Move one bike from Wellesley to Olin.\n",
    "    \n",
    "    state: bikeshare State object\n",
    "    \"\"\"\n",
    "    if state.wellesley == 0:\n",
    "        state.wellesley_empty += 1\n",
    "        return\n",
    "    state.wellesley -= 1\n",
    "    state.olin += 1\n",
    "    \n",
    "def bike_to_wellesley(state):\n",
    "    \"\"\"Move one bike from Olin to Wellesley.\n",
    "    \n",
    "    state: bikeshare State object\n",
    "    \"\"\"\n",
    "    \n",
    "    if state.olin == 0:\n",
    "        state.olin_empty += 1\n",
    "        return\n",
    "    state.olin -= 1\n",
    "    state.wellesley += 1"
   ]
  },
  {
   "cell_type": "code",
   "execution_count": 8,
   "id": "progressive-typing",
   "metadata": {
    "tags": [],
    "ExecuteTime": {
     "end_time": "2023-11-06T19:08:28.986220200Z",
     "start_time": "2023-11-06T19:08:27.649020600Z"
    }
   },
   "outputs": [],
   "source": [
    "def run_simulation(state, p1, p2, num_steps, do_plot=True):\n",
    "    \"\"\"Simulate the given number of time steps.\n",
    "    \n",
    "    state: State object\n",
    "    p1: probability of an Olin->Wellesley customer arrival\n",
    "    p2: probability of a Wellesley->Olin customer arrival\n",
    "    num_steps: number of time steps\n",
    "    \"\"\"\n",
    "    results_olin = TimeSeries()\n",
    "    results_olin[0] = state.olin\n",
    "    results_wellesley = TimeSeries()\n",
    "    results_wellesley[0] = state.wellesley\n",
    "    results_olin_unsatisfied = TimeSeries()\n",
    "    results_olin_unsatisfied[0] = state.olin_empty\n",
    "    results_wellesley_unsatisfied = TimeSeries()\n",
    "    results_wellesley_unsatisfied[0] = state.wellesley_empty\n",
    "    \n",
    "    for i in range(num_steps):\n",
    "        step(state, p1, p2)\n",
    "        results_olin[i+1] = state.olin\n",
    "        results_wellesley[i+1] = state.wellesley\n",
    "        results_olin_unsatisfied[i+1] = state.olin_empty\n",
    "        results_wellesley_unsatisfied[i+1] = state.wellesley_empty\n",
    "        \n",
    "    if (do_plot):\n",
    "        fig, ax = plt.subplots(1,2,figsize=(12,6))\n",
    "        ax[0].plot(results_olin, label='Olin')\n",
    "        ax[0].plot(results_wellesley, label='Wellesley')\n",
    "        ax[0].set_xlabel('Time step (min)')\n",
    "        ax[0].set_ylabel('Number of bikes')\n",
    "        ax[0].legend()\n",
    "        ax[1].plot(results_olin_unsatisfied, label='Olin')\n",
    "        ax[1].plot(results_wellesley_unsatisfied, label='Wellesley')\n",
    "        ax[1].set_xlabel('Time step (min)')\n",
    "        ax[1].set_ylabel('Number of unsatisfied customers')\n",
    "        ax[1].legend()\n",
    "        plt.show()\n",
    "    \n",
    "    return results_olin_unsatisfied[num_steps-1] + results_wellesley_unsatisfied[num_steps-1]"
   ]
  },
  {
   "cell_type": "code",
   "execution_count": 9,
   "outputs": [
    {
     "name": "stdout",
     "output_type": "stream",
     "text": [
      "0 12\n",
      "Average unsatisfied customers:  3.57\n",
      "1 11\n",
      "Average unsatisfied customers:  4.02\n",
      "2 10\n",
      "Average unsatisfied customers:  3.76\n",
      "3 9\n",
      "Average unsatisfied customers:  3.56\n",
      "4 8\n",
      "Average unsatisfied customers:  4.79\n",
      "5 7\n",
      "Average unsatisfied customers:  4.44\n",
      "6 6\n",
      "Average unsatisfied customers:  5.21\n",
      "7 5\n",
      "Average unsatisfied customers:  6.85\n",
      "8 4\n",
      "Average unsatisfied customers:  7.9\n",
      "9 3\n",
      "Average unsatisfied customers:  8.08\n",
      "10 2\n",
      "Average unsatisfied customers:  8.78\n",
      "11 1\n",
      "Average unsatisfied customers:  10.06\n",
      "12 0\n",
      "Average unsatisfied customers:  11.5\n"
     ]
    }
   ],
   "source": [
    "p_olin_to_wellesley = 0.3\n",
    "p_wellesley_to_olin = 0.2\n",
    "\n",
    "N_slots = 12\n",
    "\n",
    "nstart = []\n",
    "tu_avg = []\n",
    "\n",
    "num_sims = 100\n",
    "\n",
    "for N_start_olin in range(N_slots+1):\n",
    "    nstart.append(N_start_olin)\n",
    "    N_start_wellesley = N_slots - N_start_olin\n",
    "\n",
    "    print(N_start_olin, N_start_wellesley)\n",
    "\n",
    "    tu_sum = 0\n",
    "    \n",
    "    for j in range(num_sims):\n",
    "        bikeshare = State(olin=N_start_olin, wellesley=N_start_wellesley,\n",
    "                  olin_empty=0, wellesley_empty=0)\n",
    "        do_plot = False\n",
    "        total_unsatisfied = run_simulation(bikeshare, p_wellesley_to_olin, p_olin_to_wellesley, 100, do_plot)\n",
    "\n",
    "        #print(\"Total unsatisfied customers: \", j, total_unsatisfied)\n",
    "        tu_sum += total_unsatisfied\n",
    "    \n",
    "    print(\"Average unsatisfied customers: \", tu_sum/(1.0*num_sims))\n",
    "    tu_avg.append(tu_sum/(1.0*num_sims))\n",
    "    \n"
   ],
   "metadata": {
    "collapsed": false,
    "ExecuteTime": {
     "end_time": "2023-11-06T19:11:27.734504500Z",
     "start_time": "2023-11-06T19:08:27.659171300Z"
    }
   },
   "id": "760647dfb2ea5d9f"
  },
  {
   "cell_type": "code",
   "execution_count": 10,
   "outputs": [
    {
     "data": {
      "text/plain": "<matplotlib.legend.Legend at 0x1b4265be3d0>"
     },
     "execution_count": 10,
     "metadata": {},
     "output_type": "execute_result"
    },
    {
     "data": {
      "text/plain": "<Figure size 600x600 with 1 Axes>",
      "image/png": "[encoded data removed]"
     },
     "metadata": {},
     "output_type": "display_data"
    }
   ],
   "source": [
    "tu_avg_error = 0.1*np.array(tu_avg)\n",
    "\n",
    "fig, ax = plt.subplots(1,1,figsize=(8,8))\n",
    "ax.errorbar(nstart, tu_avg, tu_avg_error, label='Average unsatisfied customers')\n",
    "ax.set_xlabel('Number of starting bikes at Olin')\n",
    "ax.set_ylabel('Average number of unsatisfied customers')\n",
    "ax.legend()"
   ],
   "metadata": {
    "collapsed": false,
    "ExecuteTime": {
     "end_time": "2023-11-06T19:11:28.161760200Z",
     "start_time": "2023-11-06T19:11:27.737495800Z"
    }
   },
   "id": "5cdc15f29e14c6d1"
  },
  {
   "cell_type": "markdown",
   "source": [],
   "metadata": {
    "collapsed": false
   },
   "id": "8618a00660b30f10"
  },
  {
   "cell_type": "markdown",
   "id": "above-denial",
   "metadata": {},
   "source": [
    "## Modeling a Bike Share System\n",
    "\n",
    "Imagine a bike share system for students traveling between Olin College and Wellesley College, which are about three miles apart in eastern Massachusetts.\n",
    "\n",
    "Suppose the system contains 12 bikes and two bike racks, one at Olin and one at Wellesley, each with the capacity to hold 12 bikes.\n",
    "\n",
    "As students arrive, check out a bike, and ride to the other campus, the number of bikes in each location changes. In the simulation, we'll need to keep track of where the bikes are. To do that, we'll use a function called `State`, which is defined in the ModSim library."
   ]
  },
  {
   "cell_type": "code",
   "execution_count": 10,
   "id": "incorrect-comparison",
   "metadata": {
    "ExecuteTime": {
     "end_time": "2023-11-06T19:11:28.163923700Z",
     "start_time": "2023-11-06T19:11:28.160760900Z"
    }
   },
   "outputs": [],
   "source": []
  },
  {
   "cell_type": "markdown",
   "id": "living-wayne",
   "metadata": {},
   "source": []
  },
  {
   "cell_type": "code",
   "execution_count": 10,
   "id": "brief-diversity",
   "metadata": {
    "ExecuteTime": {
     "end_time": "2023-11-06T19:11:28.197028600Z",
     "start_time": "2023-11-06T19:11:28.165453600Z"
    }
   },
   "outputs": [],
   "source": []
  },
  {
   "cell_type": "markdown",
   "id": "intermediate-midwest",
   "metadata": {},
   "source": []
  },
  {
   "cell_type": "code",
   "execution_count": 10,
   "id": "designed-brazilian",
   "metadata": {
    "ExecuteTime": {
     "end_time": "2023-11-06T19:11:28.198034200Z",
     "start_time": "2023-11-06T19:11:28.168261400Z"
    }
   },
   "outputs": [],
   "source": []
  },
  {
   "cell_type": "markdown",
   "id": "phantom-oklahoma",
   "metadata": {},
   "source": []
  },
  {
   "cell_type": "code",
   "execution_count": 10,
   "id": "impaired-potter",
   "metadata": {
    "ExecuteTime": {
     "end_time": "2023-11-06T19:11:28.199027800Z",
     "start_time": "2023-11-06T19:11:28.174677800Z"
    }
   },
   "outputs": [],
   "source": []
  },
  {
   "cell_type": "markdown",
   "id": "vital-journal",
   "metadata": {},
   "source": []
  },
  {
   "cell_type": "markdown",
   "id": "fleet-beijing",
   "metadata": {
    "tags": []
   },
   "source": []
  },
  {
   "cell_type": "code",
   "execution_count": 10,
   "id": "basic-fabric",
   "metadata": {
    "tags": [],
    "ExecuteTime": {
     "end_time": "2023-11-06T19:11:28.199027800Z",
     "start_time": "2023-11-06T19:11:28.177634300Z"
    }
   },
   "outputs": [],
   "source": []
  },
  {
   "cell_type": "markdown",
   "id": "specified-definition",
   "metadata": {
    "tags": []
   },
   "source": []
  },
  {
   "cell_type": "markdown",
   "id": "delayed-ocean",
   "metadata": {},
   "source": []
  },
  {
   "cell_type": "code",
   "execution_count": 10,
   "id": "floppy-trainer",
   "metadata": {
    "ExecuteTime": {
     "end_time": "2023-11-06T19:11:28.199027800Z",
     "start_time": "2023-11-06T19:11:28.182790500Z"
    }
   },
   "outputs": [],
   "source": []
  },
  {
   "cell_type": "markdown",
   "id": "natural-gossip",
   "metadata": {},
   "source": []
  },
  {
   "cell_type": "code",
   "execution_count": 10,
   "id": "hungarian-bride",
   "metadata": {
    "ExecuteTime": {
     "end_time": "2023-11-06T19:11:28.200025200Z",
     "start_time": "2023-11-06T19:11:28.185536700Z"
    }
   },
   "outputs": [],
   "source": []
  },
  {
   "cell_type": "markdown",
   "id": "radical-mills",
   "metadata": {},
   "source": []
  },
  {
   "cell_type": "markdown",
   "id": "controversial-opportunity",
   "metadata": {},
   "source": []
  },
  {
   "cell_type": "code",
   "execution_count": 10,
   "id": "vertical-drawing",
   "metadata": {
    "ExecuteTime": {
     "end_time": "2023-11-06T19:11:28.452573800Z",
     "start_time": "2023-11-06T19:11:28.189265100Z"
    }
   },
   "outputs": [],
   "source": []
  },
  {
   "cell_type": "markdown",
   "id": "approximate-rolling",
   "metadata": {},
   "source": []
  },
  {
   "cell_type": "code",
   "execution_count": 10,
   "id": "significant-nutrition",
   "metadata": {
    "ExecuteTime": {
     "end_time": "2023-11-06T19:11:28.577929700Z",
     "start_time": "2023-11-06T19:11:28.198034200Z"
    }
   },
   "outputs": [],
   "source": []
  },
  {
   "cell_type": "markdown",
   "id": "generous-tracker",
   "metadata": {},
   "source": []
  },
  {
   "cell_type": "code",
   "execution_count": 10,
   "id": "moving-jurisdiction",
   "metadata": {
    "ExecuteTime": {
     "end_time": "2023-11-06T19:11:28.626799600Z",
     "start_time": "2023-11-06T19:11:28.203436900Z"
    }
   },
   "outputs": [],
   "source": []
  },
  {
   "cell_type": "markdown",
   "id": "meaningful-christmas",
   "metadata": {},
   "source": []
  },
  {
   "cell_type": "code",
   "execution_count": 10,
   "id": "proper-symposium",
   "metadata": {
    "ExecuteTime": {
     "end_time": "2023-11-06T19:11:28.673189600Z",
     "start_time": "2023-11-06T19:11:28.213884400Z"
    }
   },
   "outputs": [],
   "source": []
  },
  {
   "cell_type": "markdown",
   "id": "eleven-brook",
   "metadata": {},
   "source": []
  },
  {
   "cell_type": "code",
   "execution_count": 10,
   "id": "identical-yacht",
   "metadata": {
    "ExecuteTime": {
     "end_time": "2023-11-06T19:11:28.674186700Z",
     "start_time": "2023-11-06T19:11:28.219096300Z"
    }
   },
   "outputs": [],
   "source": []
  },
  {
   "cell_type": "markdown",
   "id": "premier-youth",
   "metadata": {},
   "source": []
  },
  {
   "cell_type": "markdown",
   "id": "brazilian-medicare",
   "metadata": {},
   "source": []
  },
  {
   "cell_type": "code",
   "execution_count": 10,
   "id": "heavy-patrol",
   "metadata": {
    "ExecuteTime": {
     "end_time": "2023-11-06T19:11:28.674186700Z",
     "start_time": "2023-11-06T19:11:28.224592300Z"
    }
   },
   "outputs": [],
   "source": []
  },
  {
   "cell_type": "markdown",
   "id": "ancient-projection",
   "metadata": {},
   "source": []
  },
  {
   "cell_type": "code",
   "execution_count": 10,
   "id": "french-preference",
   "metadata": {
    "ExecuteTime": {
     "end_time": "2023-11-06T19:11:28.674186700Z",
     "start_time": "2023-11-06T19:11:28.230909600Z"
    }
   },
   "outputs": [],
   "source": []
  },
  {
   "cell_type": "markdown",
   "id": "original-hollywood",
   "metadata": {},
   "source": []
  },
  {
   "cell_type": "code",
   "execution_count": 10,
   "id": "alternative-keyboard",
   "metadata": {
    "ExecuteTime": {
     "end_time": "2023-11-06T19:11:28.675198500Z",
     "start_time": "2023-11-06T19:11:28.236510100Z"
    }
   },
   "outputs": [],
   "source": []
  },
  {
   "cell_type": "markdown",
   "id": "described-produce",
   "metadata": {},
   "source": []
  },
  {
   "cell_type": "code",
   "execution_count": 10,
   "id": "robust-holly",
   "metadata": {
    "ExecuteTime": {
     "end_time": "2023-11-06T19:11:28.676188500Z",
     "start_time": "2023-11-06T19:11:28.240502600Z"
    }
   },
   "outputs": [],
   "source": []
  },
  {
   "cell_type": "markdown",
   "id": "vital-lender",
   "metadata": {},
   "source": []
  },
  {
   "cell_type": "code",
   "execution_count": 10,
   "id": "fifteen-atmosphere",
   "metadata": {
    "ExecuteTime": {
     "end_time": "2023-11-06T19:11:28.676188500Z",
     "start_time": "2023-11-06T19:11:28.246732Z"
    }
   },
   "outputs": [],
   "source": []
  },
  {
   "cell_type": "markdown",
   "id": "requested-glasgow",
   "metadata": {},
   "source": []
  },
  {
   "cell_type": "code",
   "execution_count": 10,
   "id": "matched-narrow",
   "metadata": {
    "ExecuteTime": {
     "end_time": "2023-11-06T19:11:28.676188500Z",
     "start_time": "2023-11-06T19:11:28.250729300Z"
    }
   },
   "outputs": [],
   "source": []
  },
  {
   "cell_type": "markdown",
   "id": "sitting-semiconductor",
   "metadata": {},
   "source": []
  },
  {
   "cell_type": "markdown",
   "id": "enhanced-maintenance",
   "metadata": {},
   "source": []
  },
  {
   "cell_type": "code",
   "execution_count": 10,
   "id": "29c1f41a",
   "metadata": {
    "tags": [],
    "ExecuteTime": {
     "end_time": "2023-11-06T19:11:28.677181100Z",
     "start_time": "2023-11-06T19:11:28.256668Z"
    }
   },
   "outputs": [],
   "source": []
  },
  {
   "cell_type": "code",
   "execution_count": 10,
   "id": "illegal-metropolitan",
   "metadata": {
    "ExecuteTime": {
     "end_time": "2023-11-06T19:11:28.677181100Z",
     "start_time": "2023-11-06T19:11:28.261683400Z"
    }
   },
   "outputs": [],
   "source": []
  },
  {
   "cell_type": "markdown",
   "id": "appropriate-funds",
   "metadata": {},
   "source": []
  },
  {
   "cell_type": "code",
   "execution_count": 10,
   "id": "excessive-murder",
   "metadata": {
    "ExecuteTime": {
     "end_time": "2023-11-06T19:11:28.677181100Z",
     "start_time": "2023-11-06T19:11:28.265981600Z"
    }
   },
   "outputs": [],
   "source": []
  },
  {
   "cell_type": "markdown",
   "id": "seventh-profile",
   "metadata": {},
   "source": []
  },
  {
   "cell_type": "code",
   "execution_count": 10,
   "id": "fundamental-nursing",
   "metadata": {
    "ExecuteTime": {
     "end_time": "2023-11-06T19:11:28.677181100Z",
     "start_time": "2023-11-06T19:11:28.270808600Z"
    }
   },
   "outputs": [],
   "source": [
    "  "
   ]
  },
  {
   "cell_type": "markdown",
   "id": "recovered-chemical",
   "metadata": {},
   "source": []
  },
  {
   "cell_type": "code",
   "execution_count": 10,
   "id": "twenty-health",
   "metadata": {
    "ExecuteTime": {
     "end_time": "2023-11-06T19:11:28.677181100Z",
     "start_time": "2023-11-06T19:11:28.276304500Z"
    }
   },
   "outputs": [],
   "source": []
  },
  {
   "cell_type": "markdown",
   "id": "difficult-construction",
   "metadata": {},
   "source": []
  },
  {
   "cell_type": "code",
   "execution_count": 10,
   "id": "played-character",
   "metadata": {
    "ExecuteTime": {
     "end_time": "2023-11-06T19:11:28.678178Z",
     "start_time": "2023-11-06T19:11:28.283599400Z"
    }
   },
   "outputs": [],
   "source": []
  },
  {
   "cell_type": "markdown",
   "id": "standard-party",
   "metadata": {},
   "source": []
  },
  {
   "cell_type": "code",
   "execution_count": 10,
   "id": "ecological-colon",
   "metadata": {
    "ExecuteTime": {
     "end_time": "2023-11-06T19:11:28.678178Z",
     "start_time": "2023-11-06T19:11:28.287858400Z"
    }
   },
   "outputs": [],
   "source": []
  },
  {
   "cell_type": "markdown",
   "id": "amateur-exposure",
   "metadata": {},
   "source": []
  },
  {
   "cell_type": "code",
   "execution_count": 10,
   "id": "mediterranean-german",
   "metadata": {
    "ExecuteTime": {
     "end_time": "2023-11-06T19:11:28.679174900Z",
     "start_time": "2023-11-06T19:11:28.292891300Z"
    }
   },
   "outputs": [],
   "source": []
  },
  {
   "cell_type": "markdown",
   "id": "sought-mobile",
   "metadata": {},
   "source": []
  },
  {
   "cell_type": "markdown",
   "id": "organic-proportion",
   "metadata": {},
   "source": []
  },
  {
   "cell_type": "code",
   "execution_count": 10,
   "id": "hollywood-shopping",
   "metadata": {
    "ExecuteTime": {
     "end_time": "2023-11-06T19:11:28.836833800Z",
     "start_time": "2023-11-06T19:11:28.297431200Z"
    }
   },
   "outputs": [],
   "source": []
  },
  {
   "cell_type": "markdown",
   "id": "encouraging-arkansas",
   "metadata": {},
   "source": []
  },
  {
   "cell_type": "code",
   "execution_count": 10,
   "id": "buried-alert",
   "metadata": {
    "ExecuteTime": {
     "end_time": "2023-11-06T19:11:28.836833800Z",
     "start_time": "2023-11-06T19:11:28.303257100Z"
    }
   },
   "outputs": [],
   "source": []
  },
  {
   "cell_type": "markdown",
   "id": "aggregate-dynamics",
   "metadata": {},
   "source": []
  },
  {
   "cell_type": "code",
   "execution_count": 10,
   "id": "recognized-denmark",
   "metadata": {
    "ExecuteTime": {
     "end_time": "2023-11-06T19:11:28.837830500Z",
     "start_time": "2023-11-06T19:11:28.307217500Z"
    }
   },
   "outputs": [],
   "source": []
  },
  {
   "cell_type": "markdown",
   "id": "raised-museum",
   "metadata": {},
   "source": []
  },
  {
   "cell_type": "markdown",
   "id": "scenic-african",
   "metadata": {},
   "source": []
  },
  {
   "cell_type": "code",
   "execution_count": 10,
   "id": "polish-river",
   "metadata": {
    "ExecuteTime": {
     "end_time": "2023-11-06T19:11:28.837830500Z",
     "start_time": "2023-11-06T19:11:28.312362700Z"
    }
   },
   "outputs": [],
   "source": []
  },
  {
   "cell_type": "markdown",
   "id": "compatible-conspiracy",
   "metadata": {},
   "source": []
  },
  {
   "cell_type": "markdown",
   "id": "breeding-groove",
   "metadata": {},
   "source": []
  },
  {
   "cell_type": "code",
   "execution_count": 10,
   "outputs": [],
   "source": [],
   "metadata": {
    "collapsed": false,
    "ExecuteTime": {
     "end_time": "2023-11-06T19:11:28.837830500Z",
     "start_time": "2023-11-06T19:11:28.318125400Z"
    }
   },
   "id": "8f318e6f58ef96c"
  },
  {
   "cell_type": "code",
   "execution_count": 10,
   "id": "every-consultation",
   "metadata": {
    "ExecuteTime": {
     "end_time": "2023-11-06T19:11:28.837830500Z",
     "start_time": "2023-11-06T19:11:28.324569200Z"
    }
   },
   "outputs": [],
   "source": []
  },
  {
   "cell_type": "markdown",
   "id": "cross-sharp",
   "metadata": {},
   "source": []
  },
  {
   "cell_type": "code",
   "execution_count": 10,
   "id": "changing-planet",
   "metadata": {
    "ExecuteTime": {
     "end_time": "2023-11-06T19:11:28.838827700Z",
     "start_time": "2023-11-06T19:11:28.327561300Z"
    }
   },
   "outputs": [],
   "source": []
  },
  {
   "cell_type": "markdown",
   "id": "attractive-revision",
   "metadata": {},
   "source": []
  },
  {
   "cell_type": "code",
   "execution_count": 10,
   "id": "aquatic-richardson",
   "metadata": {
    "ExecuteTime": {
     "end_time": "2023-11-06T19:11:28.838827700Z",
     "start_time": "2023-11-06T19:11:28.333432500Z"
    }
   },
   "outputs": [],
   "source": []
  },
  {
   "cell_type": "markdown",
   "id": "searching-funeral",
   "metadata": {},
   "source": []
  },
  {
   "cell_type": "code",
   "execution_count": 10,
   "id": "english-titanium",
   "metadata": {
    "ExecuteTime": {
     "end_time": "2023-11-06T19:11:28.838827700Z",
     "start_time": "2023-11-06T19:11:28.338840200Z"
    }
   },
   "outputs": [],
   "source": []
  },
  {
   "cell_type": "markdown",
   "id": "prospective-joining",
   "metadata": {},
   "source": []
  },
  {
   "cell_type": "code",
   "execution_count": 10,
   "id": "indonesian-singing",
   "metadata": {
    "ExecuteTime": {
     "end_time": "2023-11-06T19:11:28.839825100Z",
     "start_time": "2023-11-06T19:11:28.351030100Z"
    }
   },
   "outputs": [],
   "source": []
  },
  {
   "cell_type": "markdown",
   "id": "small-encoding",
   "metadata": {},
   "source": []
  },
  {
   "cell_type": "markdown",
   "id": "following-contrary",
   "metadata": {},
   "source": []
  },
  {
   "cell_type": "code",
   "execution_count": 10,
   "id": "saved-hands",
   "metadata": {
    "ExecuteTime": {
     "end_time": "2023-11-06T19:11:28.839825100Z",
     "start_time": "2023-11-06T19:11:28.356220600Z"
    }
   },
   "outputs": [],
   "source": []
  },
  {
   "cell_type": "markdown",
   "id": "egyptian-korea",
   "metadata": {},
   "source": []
  },
  {
   "cell_type": "markdown",
   "id": "limited-interstate",
   "metadata": {},
   "source": []
  },
  {
   "cell_type": "markdown",
   "id": "fallen-surprise",
   "metadata": {},
   "source": [
    "\n"
   ]
  },
  {
   "cell_type": "markdown",
   "id": "capital-internship",
   "metadata": {},
   "source": []
  },
  {
   "cell_type": "code",
   "execution_count": 10,
   "id": "helpful-zambia",
   "metadata": {
    "ExecuteTime": {
     "end_time": "2023-11-06T19:11:28.839825100Z",
     "start_time": "2023-11-06T19:11:28.360218400Z"
    }
   },
   "outputs": [],
   "source": []
  },
  {
   "cell_type": "markdown",
   "id": "dirty-multiple",
   "metadata": {},
   "source": []
  },
  {
   "cell_type": "code",
   "execution_count": 10,
   "id": "beneficial-mainland",
   "metadata": {
    "ExecuteTime": {
     "end_time": "2023-11-06T19:11:28.839825100Z",
     "start_time": "2023-11-06T19:11:28.366618900Z"
    }
   },
   "outputs": [],
   "source": []
  },
  {
   "cell_type": "markdown",
   "id": "christian-madrid",
   "metadata": {},
   "source": [
    "\n"
   ]
  },
  {
   "cell_type": "code",
   "execution_count": 10,
   "id": "former-frost",
   "metadata": {
    "ExecuteTime": {
     "end_time": "2023-11-06T19:11:28.840822500Z",
     "start_time": "2023-11-06T19:11:28.370611400Z"
    }
   },
   "outputs": [],
   "source": []
  },
  {
   "cell_type": "code",
   "execution_count": 10,
   "id": "spare-honduras",
   "metadata": {
    "ExecuteTime": {
     "end_time": "2023-11-06T19:11:28.840822500Z",
     "start_time": "2023-11-06T19:11:28.376753500Z"
    }
   },
   "outputs": [],
   "source": []
  },
  {
   "cell_type": "markdown",
   "id": "instructional-finnish",
   "metadata": {},
   "source": [
    "## Under the Hood\n",
    "\n",
    "This section contains additional information about the functions we've used and pointers to their documentation.\n",
    "\n",
    "You don't need to know anything in this section, so if you are already feeling overwhelmed, you might want to skip it.\n",
    "But if you are curious, read on."
   ]
  },
  {
   "cell_type": "markdown",
   "id": "quick-citizen",
   "metadata": {},
   "source": [
    "`State` and `TimeSeries` objects are based on the `Series` object defined by the Pandas library.\n",
    "The documentation is at <https://pandas.pydata.org/pandas-docs/stable/reference/api/pandas.Series.html>.\n",
    "\n",
    "`Series` objects provide their own `plot` function, which is why we call it like this:\n",
    "\n",
    "```\n",
    "results.plot()\n",
    "```\n",
    "\n",
    "Instead of like this:\n",
    "\n",
    "```\n",
    "plot(results)\n",
    "```\n",
    "\n",
    "You can read the documentation of `Series.plot` at <https://pandas.pydata.org/pandas-docs/stable/reference/api/pandas.Series.plot.html>."
   ]
  },
  {
   "cell_type": "markdown",
   "id": "digital-stretch",
   "metadata": {},
   "source": [
    "`decorate` is based on Matplotlib, which is a widely used plotting library for Python.  Matplotlib provides separate functions for `title`, `xlabel`, and `ylabel`.\n",
    "`decorate` makes them a little easier to use.\n",
    "For the list of keyword arguments you can pass to `decorate`, see <https://matplotlib.org/3.2.2/api/axes_api.html?highlight=axes#module-matplotlib.axes>.\n",
    "\n",
    "The `flip` function uses NumPy's `random` function to generate a random number between 0 and 1, then returns `True` or `False` with the given probability.\n",
    "\n",
    "You can get the source code for `flip` (or any other function) by running the following cell."
   ]
  },
  {
   "cell_type": "code",
   "execution_count": 11,
   "id": "agricultural-midwest",
   "metadata": {
    "ExecuteTime": {
     "end_time": "2023-11-06T19:11:28.841820Z",
     "start_time": "2023-11-06T19:11:28.383450200Z"
    }
   },
   "outputs": [
    {
     "name": "stdout",
     "output_type": "stream",
     "text": [
      "def flip(p=0.5):\n",
      "    \"\"\"Flips a coin with the given probability.\n",
      "\n",
      "    p: float 0-1\n",
      "\n",
      "    returns: boolean (True or False)\n",
      "    \"\"\"\n",
      "    return np.random.random() < p\n"
     ]
    }
   ],
   "source": [
    "source_code(flip)"
   ]
  },
  {
   "cell_type": "code",
   "execution_count": 11,
   "id": "junior-lindsay",
   "metadata": {
    "ExecuteTime": {
     "end_time": "2023-11-06T19:11:28.844811800Z",
     "start_time": "2023-11-06T19:11:28.391722600Z"
    }
   },
   "outputs": [],
   "source": []
  },
  {
   "cell_type": "code",
   "execution_count": 12,
   "outputs": [],
   "source": [
    "def step(state, p1, p2, p3, p4, p5, p6):\n",
    "    \"\"\"Simulate one time step.\n",
    "    \n",
    "    state: bikeshare State object\n",
    "    p1: probability of an Olin->Wellesley ride\n",
    "    p2: probability of a Wellesley->Olin ride\n",
    "    \"\"\"\n",
    "    if flip(p1):\n",
    "        bike_from_A_to_B(state)\n",
    "    \n",
    "    if flip(p2):\n",
    "        bike_from_B_to_A(state)\n",
    "        \n",
    "    if flip(p3):\n",
    "        bike_from_A_to_C(state)\n",
    "    \n",
    "    if flip(p4):\n",
    "        bike_from_C_to_A(state)\n",
    "        \n",
    "    if flip(p5):\n",
    "        bike_from_B_to_C(state)\n",
    "        \n",
    "    if flip(p6):\n",
    "        bike_from_C_to_B(state)\n",
    "\n",
    "def bike_from_A_to_B(state):\n",
    "    \"\"\"Move one bike from A to B.\n",
    "    \n",
    "    state: bikeshare State object\n",
    "    \"\"\"\n",
    "    \n",
    "    if state.A == 0:\n",
    "        state.A_empty += 1\n",
    "        return\n",
    "    state.A -= 1\n",
    "    state.B += 1\n",
    "    \n",
    "def bike_from_B_to_A(state):\n",
    "    \"\"\"Move one bike from B to A.\n",
    "    \n",
    "    state: bikeshare State object\n",
    "    \"\"\"\n",
    "    \n",
    "    if state.B == 0:\n",
    "        state.B_empty += 1\n",
    "        return\n",
    "    state.B -= 1\n",
    "    state.A += 1\n",
    "    \n",
    "def bike_from_A_to_C(state):\n",
    "    \"\"\"Move one bike from A to B.\n",
    "    \n",
    "    state: bikeshare State object\n",
    "    \"\"\"\n",
    "    \n",
    "    if state.A == 0:\n",
    "        state.A_empty += 1\n",
    "        return\n",
    "    state.A -= 1\n",
    "    state.C += 1\n",
    "    \n",
    "def bike_from_C_to_A(state):\n",
    "    \"\"\"Move one bike from C to A.\n",
    "    \n",
    "    state: bikeshare State object\n",
    "    \"\"\"\n",
    "    \n",
    "    if state.C == 0:\n",
    "        state.C_empty += 1\n",
    "        return\n",
    "    state.C -= 1\n",
    "    state.A += 1\n",
    "    \n",
    "def bike_from_B_to_C(state):\n",
    "    \"\"\"Move one bike from B to C.\n",
    "    \n",
    "    state: bikeshare State object\n",
    "    \"\"\"\n",
    "    \n",
    "    if state.B == 0:\n",
    "        state.B_empty += 1\n",
    "        return\n",
    "    state.B -= 1\n",
    "    state.C += 1\n",
    "    \n",
    "def bike_from_C_to_B(state):\n",
    "    \"\"\"Move one bike from C to B.\n",
    "    \n",
    "    state: bikeshare State object\n",
    "    \"\"\"\n",
    "    \n",
    "    if state.C == 0:\n",
    "        state.C_empty += 1\n",
    "        return\n",
    "    state.C -= 1\n",
    "    state.B += 1\n",
    "    "
   ],
   "metadata": {
    "collapsed": false,
    "ExecuteTime": {
     "end_time": "2023-11-06T19:11:28.844811800Z",
     "start_time": "2023-11-06T19:11:28.408476Z"
    }
   },
   "id": "9c2ef8f0c1c32f7"
  },
  {
   "cell_type": "code",
   "execution_count": 13,
   "outputs": [],
   "source": [
    "def run_new_simulation(state, p1, p2, p3, p4, p5, p6, num_steps, do_plot=True):\n",
    "    \"\"\"Simulate the given number of time steps.\n",
    "    \n",
    "    state: State object\n",
    "    p1: probability of an Olin->Wellesley customer arrival\n",
    "    p2: probability of a Wellesley->Olin customer arrival\n",
    "    num_steps: number of time steps\n",
    "    \"\"\"\n",
    "    results_A = TimeSeries()\n",
    "    results_A[0] = state.A\n",
    "    results_B = TimeSeries()\n",
    "    results_B[0] = state.B\n",
    "    results_C = TimeSeries()\n",
    "    results_C[0] = state.C\n",
    "    results_A_unsatisfied = TimeSeries()\n",
    "    results_A_unsatisfied[0] = state.A_empty\n",
    "    results_B_unsatisfied = TimeSeries()\n",
    "    results_B_unsatisfied[0] = state.B_empty\n",
    "    results_C_unsatisfied = TimeSeries()\n",
    "    results_C_unsatisfied[0] = state.C_empty\n",
    "    \n",
    "    for i in range(num_steps):\n",
    "        step(state, p1, p2, p3, p4, p5, p6)\n",
    "        results_A[i+1] = state.A\n",
    "        results_B[i+1] = state.B\n",
    "        results_C[i+1] = state.C\n",
    "        results_A_unsatisfied[i+1] = state.A_empty\n",
    "        results_B_unsatisfied[i+1] = state.B_empty\n",
    "        results_C_unsatisfied[i+1] = state.C_empty\n",
    "        \n",
    "    if (do_plot):\n",
    "        fig, ax = plt.subplots(1,2,figsize=(12,6))\n",
    "        ax[0].plot(results_A, label='A')\n",
    "        ax[0].plot(results_B, label='B')\n",
    "        ax[0].plot(results_C, label='C')\n",
    "        ax[0].set_xlabel('Time step (min)')\n",
    "        ax[0].set_ylabel('Number of bikes')\n",
    "        ax[0].legend()\n",
    "        ax[1].plot(results_A_unsatisfied, label='A')\n",
    "        ax[1].plot(results_B_unsatisfied, label='B')\n",
    "        ax[1].plot(results_C_unsatisfied, label='C')\n",
    "        ax[1].set_xlabel('Time step (min)')\n",
    "        ax[1].set_ylabel('Number of unsatisfied customers')\n",
    "        ax[1].legend()\n",
    "        plt.show()\n",
    "    \n",
    "    return results_A_unsatisfied[num_steps-1] + results_B_unsatisfied[num_steps-1] + results_C_unsatisfied[num_steps-1]"
   ],
   "metadata": {
    "collapsed": false,
    "ExecuteTime": {
     "end_time": "2023-11-06T19:11:28.844811800Z",
     "start_time": "2023-11-06T19:11:28.423944700Z"
    }
   },
   "id": "bd924d309c0738fc"
  },
  {
   "cell_type": "code",
   "execution_count": 17,
   "outputs": [
    {
     "name": "stdout",
     "output_type": "stream",
     "text": [
      "0 0 100\n",
      "Average unsatisfied customers:  82.66\n",
      "0 10 90\n",
      "Average unsatisfied customers:  66.58\n",
      "0 20 80\n",
      "Average unsatisfied customers:  55.38\n",
      "0 30 70\n",
      "Average unsatisfied customers:  41.3\n",
      "0 40 60\n",
      "Average unsatisfied customers:  40.11\n",
      "0 50 50\n",
      "Average unsatisfied customers:  39.76\n",
      "0 60 40\n",
      "Average unsatisfied customers:  40.85\n",
      "0 70 30\n",
      "Average unsatisfied customers:  40.81\n",
      "0 80 20\n",
      "Average unsatisfied customers:  40.29\n",
      "0 90 10\n",
      "Average unsatisfied customers:  42.04\n",
      "0 100 0\n",
      "Average unsatisfied customers:  42.0\n",
      "10 0 90\n",
      "Average unsatisfied customers:  64.23\n",
      "10 10 80\n",
      "Average unsatisfied customers:  51.51\n",
      "10 20 70\n",
      "Average unsatisfied customers:  36.81\n",
      "10 30 60\n",
      "Average unsatisfied customers:  30.1\n",
      "10 40 50\n",
      "Average unsatisfied customers:  30.34\n",
      "10 50 40\n",
      "Average unsatisfied customers:  31.53\n",
      "10 60 30\n",
      "Average unsatisfied customers:  30.32\n",
      "10 70 20\n",
      "Average unsatisfied customers:  30.75\n",
      "10 80 10\n",
      "Average unsatisfied customers:  30.37\n",
      "10 90 0\n",
      "Average unsatisfied customers:  29.89\n",
      "20 0 80\n",
      "Average unsatisfied customers:  49.8\n",
      "20 10 70\n",
      "Average unsatisfied customers:  32.55\n",
      "20 20 60\n",
      "Average unsatisfied customers:  21.85\n",
      "20 30 50\n",
      "Average unsatisfied customers:  21.91\n",
      "20 40 40\n",
      "Average unsatisfied customers:  20.05\n",
      "20 50 30\n",
      "Average unsatisfied customers:  19.47\n",
      "20 60 20\n",
      "Average unsatisfied customers:  19.54\n",
      "20 70 10\n",
      "Average unsatisfied customers:  19.29\n",
      "20 80 0\n",
      "Average unsatisfied customers:  20.04\n",
      "30 0 70\n",
      "Average unsatisfied customers:  32.57\n",
      "30 10 60\n",
      "Average unsatisfied customers:  18.13\n",
      "30 20 50\n",
      "Average unsatisfied customers:  11.64\n",
      "30 30 40\n",
      "Average unsatisfied customers:  11.32\n",
      "30 40 30\n",
      "Average unsatisfied customers:  10.25\n",
      "30 50 20\n",
      "Average unsatisfied customers:  10.01\n",
      "30 60 10\n",
      "Average unsatisfied customers:  10.47\n",
      "30 70 0\n",
      "Average unsatisfied customers:  11.5\n",
      "40 0 60\n",
      "Average unsatisfied customers:  18.0\n",
      "40 10 50\n",
      "Average unsatisfied customers:  7.48\n",
      "40 20 40\n",
      "Average unsatisfied customers:  4.72\n",
      "40 30 30\n",
      "Average unsatisfied customers:  4.27\n",
      "40 40 20\n",
      "Average unsatisfied customers:  3.06\n",
      "40 50 10\n",
      "Average unsatisfied customers:  3.79\n",
      "40 60 0\n",
      "Average unsatisfied customers:  3.74\n",
      "50 0 50\n",
      "Average unsatisfied customers:  13.28\n",
      "50 10 40\n",
      "Average unsatisfied customers:  4.57\n",
      "50 20 30\n",
      "Average unsatisfied customers:  1.16\n",
      "50 30 20\n",
      "Average unsatisfied customers:  0.62\n",
      "50 40 10\n",
      "Average unsatisfied customers:  0.38\n",
      "50 50 0\n",
      "Average unsatisfied customers:  0.6\n",
      "60 0 40\n",
      "Average unsatisfied customers:  12.5\n",
      "60 10 30\n",
      "Average unsatisfied customers:  4.84\n",
      "60 20 20\n",
      "Average unsatisfied customers:  0.42\n",
      "60 30 10\n",
      "Average unsatisfied customers:  0.0\n",
      "60 40 0\n",
      "Average unsatisfied customers:  0.21\n",
      "70 0 30\n",
      "Average unsatisfied customers:  12.67\n",
      "70 10 20\n",
      "Average unsatisfied customers:  5.65\n",
      "70 20 10\n",
      "Average unsatisfied customers:  1.03\n",
      "70 30 0\n",
      "Average unsatisfied customers:  0.25\n",
      "80 0 20\n",
      "Average unsatisfied customers:  12.01\n",
      "80 10 10\n",
      "Average unsatisfied customers:  3.78\n",
      "80 20 0\n",
      "Average unsatisfied customers:  0.94\n",
      "90 0 10\n",
      "Average unsatisfied customers:  12.56\n",
      "90 10 0\n",
      "Average unsatisfied customers:  4.45\n",
      "100 0 0\n",
      "Average unsatisfied customers:  12.88\n"
     ]
    }
   ],
   "source": [
    "p_AB = 0.3\n",
    "p_BA = 0.2\n",
    "p_AC = 0.4\n",
    "p_CA = 0.1\n",
    "p_BC = 0.35\n",
    "p_CB = 0.15\n",
    "\n",
    "N_slots = 100\n",
    "\n",
    "nstart = []\n",
    "tu_avg = []\n",
    "\n",
    "num_sims = 100\n",
    "\n",
    "for N_start_A in range(11):\n",
    "    for N_start_B in range(11-N_start_A):\n",
    "        nstart.append(N_start_A*10)\n",
    "        N_start_C = N_slots - N_start_A*10 - N_start_B*10\n",
    "\n",
    "        print(N_start_A*10, N_start_B*10, N_start_C)\n",
    "\n",
    "        tu_sum = 0\n",
    "        \n",
    "        for j in range(num_sims):\n",
    "            new_bikeshare = State(A=N_start_A*10, B=N_start_B*10, C=N_start_C,\n",
    "                      A_empty=0, B_empty=0, C_empty=0)\n",
    "            do_plot = False\n",
    "            total_unsatisfied = run_new_simulation(new_bikeshare, p_AB, p_BA, p_AC, p_CA, p_BC, p_CB, 100, do_plot)\n",
    "    \n",
    "            #print(\"Total unsatisfied customers: \", j, total_unsatisfied)\n",
    "            tu_sum += total_unsatisfied\n",
    "        \n",
    "        print(\"Average unsatisfied customers: \", tu_sum/(1.0*num_sims))\n",
    "        tu_avg.append(tu_sum/(1.0*num_sims))\n",
    "    \n"
   ],
   "metadata": {
    "collapsed": false,
    "ExecuteTime": {
     "end_time": "2023-11-06T19:45:14.394578100Z",
     "start_time": "2023-11-06T19:21:31.886897100Z"
    }
   },
   "id": "d705d6905868d0e7"
  },
  {
   "cell_type": "markdown",
   "source": [
    "Best combo is 60, 30, 10 with 0 unsatisfied customers\n"
   ],
   "metadata": {
    "collapsed": false
   },
   "id": "5dd1f9386065c67e"
  },
  {
   "cell_type": "code",
   "execution_count": null,
   "outputs": [],
   "source": [],
   "metadata": {
    "collapsed": false
   },
   "id": "f8decf9f4ebe6e9f"
  }
 ],
 "metadata": {
  "celltoolbar": "Tags",
  "kernelspec": {
   "display_name": "Python 3 (ipykernel)",
   "language": "python",
   "name": "python3"
  },
  "language_info": {
   "codemirror_mode": {
    "name": "ipython",
    "version": 3
   },
   "file_extension": ".py",
   "mimetype": "text/x-python",
   "name": "python",
   "nbconvert_exporter": "python",
   "pygments_lexer": "ipython3",
   "version": "3.10.6"
  }
 },
 "nbformat": 4,
 "nbformat_minor": 5
}
