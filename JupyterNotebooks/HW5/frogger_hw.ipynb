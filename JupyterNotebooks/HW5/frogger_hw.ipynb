{
 "cells": [
  {
   "cell_type": "code",
   "execution_count": 17,
   "id": "initial_id",
   "metadata": {
    "collapsed": true,
    "ExecuteTime": {
     "end_time": "2023-11-29T16:46:33.345270900Z",
     "start_time": "2023-11-29T16:46:33.316049500Z"
    }
   },
   "outputs": [],
   "source": [
    "import numpy as np\n",
    "import matplotlib.pyplot as plt\n",
    "import scipy.stats as stats\n",
    "import random"
   ]
  },
  {
   "cell_type": "markdown",
   "source": [
    "### Set the number of lilypads"
   ],
   "metadata": {
    "collapsed": false
   },
   "id": "231e9592a99bf387"
  },
  {
   "cell_type": "code",
   "execution_count": 18,
   "outputs": [],
   "source": [
    "n = 100\n"
   ],
   "metadata": {
    "collapsed": false,
    "ExecuteTime": {
     "end_time": "2023-11-29T16:46:33.412297600Z",
     "start_time": "2023-11-29T16:46:33.327865100Z"
    }
   },
   "id": "1b8464c02d2c214a"
  },
  {
   "cell_type": "markdown",
   "source": [
    "### seed the random number generator\n"
   ],
   "metadata": {
    "collapsed": false
   },
   "id": "520192b06f36cfc6"
  },
  {
   "cell_type": "code",
   "execution_count": 19,
   "outputs": [],
   "source": [
    "random.seed(1)"
   ],
   "metadata": {
    "collapsed": false,
    "ExecuteTime": {
     "end_time": "2023-11-29T16:46:33.440250500Z",
     "start_time": "2023-11-29T16:46:33.340249800Z"
    }
   },
   "id": "a2c856b2028aec61"
  },
  {
   "cell_type": "code",
   "execution_count": 20,
   "outputs": [],
   "source": [
    "start = 0 # start at lilypad 0\n",
    "jumpsum = 0 # keep track of the number of jumps per simulation\n",
    "total_jumps = 0 # keep track of the total number of jumps for all simulations\n",
    "n_trys = 10000 # number of simulations to run\n",
    "\n",
    "x = [] # array for the number of lilypads for plotting\n",
    "y = [] # array for the expectation value for plotting\n",
    "eval = [] # array for the analytic solution\n",
    "eval_harmonic = [] # array for the analytic solution\n",
    "x_harmonic = [] # array for the harmonic mean\n",
    "sigma = [] # array for the error on the expectation value"
   ],
   "metadata": {
    "collapsed": false,
    "ExecuteTime": {
     "end_time": "2023-11-29T16:46:33.497067200Z",
     "start_time": "2023-11-29T16:46:33.343243900Z"
    }
   },
   "id": "79ebe7e321490e41"
  },
  {
   "cell_type": "code",
   "execution_count": 21,
   "outputs": [],
   "source": [
    "#\n",
    "# Evaluate the analytic solution shown above\n",
    "#\n",
    "# loop over the number of lilypads (it's n+1 so that we actually do the npad=n_max case)\n",
    "for npad in range(0,n+1): \n",
    "\n",
    "    if (npad == 0):\n",
    "        eval.append(1)\n",
    "    else:\n",
    "        sum = 1.0\n",
    "        for i in range(0,npad):\n",
    "            #print(i,npad,npad-i)\n",
    "            #print(eval[npad-i-1])\n",
    "            sum = sum + 1.0/(npad+1)*(eval[npad-i-1])\n",
    "        eval.append(sum)\n",
    "    #print(\"Theory: \",npad,eval[npad])\n",
    "  "
   ],
   "metadata": {
    "collapsed": false,
    "ExecuteTime": {
     "end_time": "2023-11-29T16:46:33.499062300Z",
     "start_time": "2023-11-29T16:46:33.357135400Z"
    }
   },
   "id": "334ec5911e3602fb"
  },
  {
   "cell_type": "code",
   "execution_count": 22,
   "outputs": [
    {
     "name": "stdout",
     "output_type": "stream",
     "text": [
      "Expectation value for n = 0 is 1.000000\n",
      "Expectation value for n = 1 is 1.497500\n",
      "Expectation value for n = 2 is 2.328200\n",
      "Expectation value for n = 3 is 3.243000\n",
      "Expectation value for n = 4 is 4.191700\n",
      "Expectation value for n = 5 is 5.233300\n",
      "Expectation value for n = 6 is 6.098500\n",
      "Expectation value for n = 7 is 7.107600\n",
      "Expectation value for n = 8 is 8.104900\n",
      "Expectation value for n = 9 is 9.010700\n",
      "Expectation value for n = 10 is 10.075200\n",
      "Expectation value for n = 11 is 11.086400\n",
      "Expectation value for n = 12 is 12.054900\n",
      "Expectation value for n = 13 is 12.972200\n",
      "Expectation value for n = 14 is 14.146700\n",
      "Expectation value for n = 15 is 15.103900\n",
      "Expectation value for n = 16 is 16.151100\n",
      "Expectation value for n = 17 is 16.973400\n",
      "Expectation value for n = 18 is 18.160500\n",
      "Expectation value for n = 19 is 18.927600\n",
      "Expectation value for n = 20 is 20.324600\n",
      "Expectation value for n = 21 is 21.445300\n",
      "Expectation value for n = 22 is 21.919800\n",
      "Expectation value for n = 23 is 22.886600\n",
      "Expectation value for n = 24 is 24.148900\n",
      "Expectation value for n = 25 is 25.383400\n",
      "Expectation value for n = 26 is 25.828000\n",
      "Expectation value for n = 27 is 27.412700\n",
      "Expectation value for n = 28 is 28.029000\n",
      "Expectation value for n = 29 is 29.037900\n",
      "Expectation value for n = 30 is 29.367800\n",
      "Expectation value for n = 31 is 30.608900\n",
      "Expectation value for n = 32 is 32.155800\n",
      "Expectation value for n = 33 is 33.531600\n",
      "Expectation value for n = 34 is 34.004600\n",
      "Expectation value for n = 35 is 35.432900\n",
      "Expectation value for n = 36 is 36.506000\n",
      "Expectation value for n = 37 is 37.089000\n",
      "Expectation value for n = 38 is 38.448700\n",
      "Expectation value for n = 39 is 38.967800\n",
      "Expectation value for n = 40 is 40.286800\n",
      "Expectation value for n = 41 is 41.546700\n",
      "Expectation value for n = 42 is 42.400600\n",
      "Expectation value for n = 43 is 43.062800\n",
      "Expectation value for n = 44 is 44.181800\n",
      "Expectation value for n = 45 is 44.223700\n",
      "Expectation value for n = 46 is 46.631300\n",
      "Expectation value for n = 47 is 47.569900\n",
      "Expectation value for n = 48 is 47.740100\n",
      "Expectation value for n = 49 is 48.234100\n",
      "Expectation value for n = 50 is 49.577900\n",
      "Expectation value for n = 51 is 50.900600\n",
      "Expectation value for n = 52 is 52.492600\n",
      "Expectation value for n = 53 is 54.262500\n",
      "Expectation value for n = 54 is 54.622400\n",
      "Expectation value for n = 55 is 55.364300\n",
      "Expectation value for n = 56 is 56.909800\n",
      "Expectation value for n = 57 is 56.875800\n",
      "Expectation value for n = 58 is 58.389200\n",
      "Expectation value for n = 59 is 59.646100\n",
      "Expectation value for n = 60 is 59.436600\n",
      "Expectation value for n = 61 is 61.170100\n",
      "Expectation value for n = 62 is 61.261600\n",
      "Expectation value for n = 63 is 63.638600\n",
      "Expectation value for n = 64 is 64.702800\n",
      "Expectation value for n = 65 is 64.085200\n",
      "Expectation value for n = 66 is 66.679400\n",
      "Expectation value for n = 67 is 67.140200\n",
      "Expectation value for n = 68 is 67.765100\n",
      "Expectation value for n = 69 is 69.120500\n",
      "Expectation value for n = 70 is 69.490700\n",
      "Expectation value for n = 71 is 72.624800\n",
      "Expectation value for n = 72 is 71.325100\n",
      "Expectation value for n = 73 is 73.440300\n",
      "Expectation value for n = 74 is 73.114600\n",
      "Expectation value for n = 75 is 75.794000\n",
      "Expectation value for n = 76 is 75.554200\n",
      "Expectation value for n = 77 is 76.912900\n",
      "Expectation value for n = 78 is 77.374400\n",
      "Expectation value for n = 79 is 79.119900\n",
      "Expectation value for n = 80 is 79.898400\n",
      "Expectation value for n = 81 is 81.227300\n",
      "Expectation value for n = 82 is 82.125800\n",
      "Expectation value for n = 83 is 83.505400\n",
      "Expectation value for n = 84 is 83.335400\n",
      "Expectation value for n = 85 is 85.091700\n",
      "Expectation value for n = 86 is 86.023500\n",
      "Expectation value for n = 87 is 86.450600\n",
      "Expectation value for n = 88 is 90.150400\n",
      "Expectation value for n = 89 is 88.478200\n",
      "Expectation value for n = 90 is 90.062200\n",
      "Expectation value for n = 91 is 90.578200\n",
      "Expectation value for n = 92 is 92.349600\n",
      "Expectation value for n = 93 is 94.099900\n",
      "Expectation value for n = 94 is 94.273400\n",
      "Expectation value for n = 95 is 97.224500\n",
      "Expectation value for n = 96 is 97.459500\n",
      "Expectation value for n = 97 is 96.315900\n",
      "Expectation value for n = 98 is 98.322100\n",
      "Expectation value for n = 99 is 97.462300\n",
      "Expectation value for n = 100 is 102.121800\n"
     ]
    }
   ],
   "source": [
    "#\n",
    "# Run the simulation\n",
    "#\n",
    "# (also, evaluate the harmonic mean along the way)\n",
    "#\n",
    "for npad in range(0,n+1):\n",
    "    \n",
    "    x_harmonic.append(npad+1)\n",
    "    x.append(npad)\n",
    "    \n",
    "    sum2 = (npad+1.0)/stats.hmean(x_harmonic)\n",
    "    eval_harmonic.append(sum2)\n",
    "    \n",
    "    #print (\"Harmonic mean for npad = \",npad,\" = \", sum2)\n",
    "    \n",
    "    end = npad+1\n",
    "    current_paddle = start\n",
    "    \n",
    "    # run the simulation n_trys times\n",
    "    for j in range(n_trys):\n",
    "        \n",
    "        # run the simulation until the frog reaches the other side\n",
    "        while current_paddle < end:\n",
    "            # choose a random jump size between 1 and the number of lilypads left to jump\n",
    "            jump = 0\n",
    "            while jump == 0:\n",
    "                jump = int(random.uniform((start-current_paddle),(end-current_paddle+1)))\n",
    "            #print (\"Jump = \",jump)\n",
    "            \n",
    "            # jump ahead\n",
    "            current_paddle = current_paddle + jump\n",
    "            #print (\"Now at \",current_paddle)\n",
    "            \n",
    "            # keep track of the number of jumps\n",
    "            jumpsum = jumpsum + 1\n",
    "            \n",
    "        # reset the frog to the start for the next simulation\n",
    "        current_paddle = start\n",
    "        #print (\"j = %d, Total_jumps = %d\" % (j,jumpsum))\n",
    "        \n",
    "        # keep track of the total number of jumps for all simulations\n",
    "        total_jumps = total_jumps + jumpsum\n",
    "        \n",
    "        # reset the jumpsum for the next simulation\n",
    "        jumpsum = 0\n",
    "    \n",
    "    #print (npad,total_jumps,n_trys)\n",
    "\n",
    "    # calculate the expectation value\n",
    "    expectation_value = total_jumps/n_trys*1.0\n",
    "    \n",
    "    # store the expectation value and the error on the expectation value for plotting\n",
    "    y.append(expectation_value)\n",
    "    sigma.append(expectation_value*1/np.sqrt(n_trys))\n",
    "    \n",
    "    # reset the total number of jumps for all simulations, for the next value of npad\n",
    "    total_jumps = 0\n",
    "    \n",
    "    print (\"Expectation value for n = %d is %f\" % (npad,expectation_value))\n",
    "  "
   ],
   "metadata": {
    "collapsed": false,
    "ExecuteTime": {
     "end_time": "2023-11-29T16:47:17.496120100Z",
     "start_time": "2023-11-29T16:46:33.367414200Z"
    }
   },
   "id": "e84fd5e7e3c1c01d"
  },
  {
   "cell_type": "code",
   "execution_count": 23,
   "outputs": [
    {
     "data": {
      "text/plain": "[<matplotlib.lines.Line2D at 0x203672363d0>]"
     },
     "execution_count": 23,
     "metadata": {},
     "output_type": "execute_result"
    },
    {
     "data": {
      "text/plain": "<Figure size 1500x800 with 1 Axes>",
      "image/png": "[encoded data removed]"
     },
     "metadata": {},
     "output_type": "display_data"
    }
   ],
   "source": [
    "# plot the results\n",
    "\n",
    "fig = plt.figure(figsize=(15,8))\n",
    "ax1 = fig.add_subplot(111)\n",
    "\n",
    "ax1.set_title(\"Frog Jumps in Any Direction\")\n",
    "ax1.set_xlabel('N')\n",
    "ax1.set_ylabel('Expected Number of Jumps / N')\n",
    "ax1.set_xlim(-1,n+1)\n",
    "#ax1.set_yscale(\"log\")\n",
    "#ax1.set_xscale(\"log\")\n",
    "ax1.grid(True)\n",
    "\n",
    "ax1.errorbar(x,y,yerr=sigma,fmt='o')\n",
    "ax1.plot(x,eval,'r--')\n"
   ],
   "metadata": {
    "collapsed": false,
    "ExecuteTime": {
     "end_time": "2023-11-29T16:47:17.848934200Z",
     "start_time": "2023-11-29T16:47:17.489141500Z"
    }
   },
   "id": "d3363f3afecafe12"
  },
  {
   "cell_type": "markdown",
   "source": [
    "## The new rule set would make the probability of reaching the end linearly dependent on how many lily pads there are."
   ],
   "metadata": {
    "collapsed": false
   },
   "id": "9e58cff8cf61b565"
  },
  {
   "cell_type": "markdown",
   "source": [
    "## Now we only let the frog jump forward but with the probability of jumping to some lily pad to be inversely proportional to the length of the jump"
   ],
   "metadata": {
    "collapsed": false
   },
   "id": "5382a0445bd2bd55"
  },
  {
   "cell_type": "code",
   "execution_count": 26,
   "outputs": [],
   "source": [
    "start = 0 # start at lilypad 0\n",
    "jumpsum = 0 # keep track of the number of jumps per simulation\n",
    "total_jumps = 0 # keep track of the total number of jumps for all simulations\n",
    "n_trys = 10000 # number of simulations to run\n",
    "\n",
    "x = [] # array for the number of lilypads for plotting\n",
    "y = [] # array for the expectation value for plotting\n",
    "eval = [] # array for the analytic solution\n",
    "eval_harmonic = [] # array for the analytic solution\n",
    "x_harmonic = [] # array for the harmonic mean\n",
    "sigma = [] # array for the error on the expectation value"
   ],
   "metadata": {
    "collapsed": false,
    "ExecuteTime": {
     "end_time": "2023-11-29T16:49:12.333543300Z",
     "start_time": "2023-11-29T16:49:12.291332200Z"
    }
   },
   "id": "9ab106915ca4db33"
  },
  {
   "cell_type": "code",
   "execution_count": 27,
   "outputs": [
    {
     "name": "stdout",
     "output_type": "stream",
     "text": [
      "Expectation value for n = 0 is 1.000000\n",
      "Expectation value for n = 1 is 1.670700\n",
      "Expectation value for n = 2 is 1.814400\n",
      "Expectation value for n = 3 is 2.140100\n",
      "Expectation value for n = 4 is 2.228300\n",
      "Expectation value for n = 5 is 2.361700\n",
      "Expectation value for n = 6 is 2.395500\n",
      "Expectation value for n = 7 is 2.533300\n",
      "Expectation value for n = 8 is 2.571700\n",
      "Expectation value for n = 9 is 2.651400\n",
      "Expectation value for n = 10 is 2.674600\n",
      "Expectation value for n = 11 is 2.755400\n",
      "Expectation value for n = 12 is 2.763700\n",
      "Expectation value for n = 13 is 2.821400\n",
      "Expectation value for n = 14 is 2.832100\n",
      "Expectation value for n = 15 is 2.867100\n",
      "Expectation value for n = 16 is 2.888600\n",
      "Expectation value for n = 17 is 2.923300\n",
      "Expectation value for n = 18 is 2.941100\n",
      "Expectation value for n = 19 is 2.983700\n",
      "Expectation value for n = 20 is 2.986300\n",
      "Expectation value for n = 21 is 3.020300\n",
      "Expectation value for n = 22 is 3.024100\n",
      "Expectation value for n = 23 is 3.075600\n",
      "Expectation value for n = 24 is 3.079300\n",
      "Expectation value for n = 25 is 3.093300\n",
      "Expectation value for n = 26 is 3.096400\n",
      "Expectation value for n = 27 is 3.122800\n",
      "Expectation value for n = 28 is 3.146100\n",
      "Expectation value for n = 29 is 3.165000\n",
      "Expectation value for n = 30 is 3.165300\n",
      "Expectation value for n = 31 is 3.197200\n",
      "Expectation value for n = 32 is 3.198100\n",
      "Expectation value for n = 33 is 3.205300\n",
      "Expectation value for n = 34 is 3.227400\n",
      "Expectation value for n = 35 is 3.252200\n",
      "Expectation value for n = 36 is 3.245100\n",
      "Expectation value for n = 37 is 3.241800\n",
      "Expectation value for n = 38 is 3.254500\n",
      "Expectation value for n = 39 is 3.271400\n",
      "Expectation value for n = 40 is 3.288700\n",
      "Expectation value for n = 41 is 3.290300\n",
      "Expectation value for n = 42 is 3.302300\n",
      "Expectation value for n = 43 is 3.314900\n",
      "Expectation value for n = 44 is 3.313500\n",
      "Expectation value for n = 45 is 3.352600\n",
      "Expectation value for n = 46 is 3.331900\n",
      "Expectation value for n = 47 is 3.345200\n",
      "Expectation value for n = 48 is 3.343500\n",
      "Expectation value for n = 49 is 3.363800\n",
      "Expectation value for n = 50 is 3.381400\n",
      "Expectation value for n = 51 is 3.376500\n",
      "Expectation value for n = 52 is 3.373100\n",
      "Expectation value for n = 53 is 3.372200\n",
      "Expectation value for n = 54 is 3.406200\n",
      "Expectation value for n = 55 is 3.416400\n",
      "Expectation value for n = 56 is 3.402300\n",
      "Expectation value for n = 57 is 3.420100\n",
      "Expectation value for n = 58 is 3.423200\n",
      "Expectation value for n = 59 is 3.452500\n",
      "Expectation value for n = 60 is 3.448900\n",
      "Expectation value for n = 61 is 3.442900\n",
      "Expectation value for n = 62 is 3.459900\n",
      "Expectation value for n = 63 is 3.463500\n",
      "Expectation value for n = 64 is 3.458100\n",
      "Expectation value for n = 65 is 3.478400\n",
      "Expectation value for n = 66 is 3.492600\n",
      "Expectation value for n = 67 is 3.468400\n",
      "Expectation value for n = 68 is 3.476900\n",
      "Expectation value for n = 69 is 3.488200\n",
      "Expectation value for n = 70 is 3.506100\n",
      "Expectation value for n = 71 is 3.485600\n",
      "Expectation value for n = 72 is 3.504900\n",
      "Expectation value for n = 73 is 3.509200\n",
      "Expectation value for n = 74 is 3.517700\n",
      "Expectation value for n = 75 is 3.530500\n",
      "Expectation value for n = 76 is 3.533600\n",
      "Expectation value for n = 77 is 3.537100\n",
      "Expectation value for n = 78 is 3.539300\n",
      "Expectation value for n = 79 is 3.537700\n",
      "Expectation value for n = 80 is 3.561900\n",
      "Expectation value for n = 81 is 3.547900\n",
      "Expectation value for n = 82 is 3.567700\n",
      "Expectation value for n = 83 is 3.570900\n",
      "Expectation value for n = 84 is 3.562900\n",
      "Expectation value for n = 85 is 3.566600\n",
      "Expectation value for n = 86 is 3.562000\n",
      "Expectation value for n = 87 is 3.577200\n",
      "Expectation value for n = 88 is 3.562000\n",
      "Expectation value for n = 89 is 3.587300\n",
      "Expectation value for n = 90 is 3.597300\n",
      "Expectation value for n = 91 is 3.614600\n",
      "Expectation value for n = 92 is 3.603300\n",
      "Expectation value for n = 93 is 3.596000\n",
      "Expectation value for n = 94 is 3.586300\n",
      "Expectation value for n = 95 is 3.602300\n",
      "Expectation value for n = 96 is 3.607900\n",
      "Expectation value for n = 97 is 3.607500\n",
      "Expectation value for n = 98 is 3.615700\n",
      "Expectation value for n = 99 is 3.630900\n",
      "Expectation value for n = 100 is 3.650400\n"
     ]
    }
   ],
   "source": [
    "#\n",
    "# Run the simulation\n",
    "#\n",
    "# (also, evaluate the harmonic mean along the way)\n",
    "#\n",
    "for npad in range(0,n+1):\n",
    "    \n",
    "    x_harmonic.append(npad+1)\n",
    "    x.append(npad)\n",
    "    \n",
    "    sum2 = (npad+1.0)/stats.hmean(x_harmonic)\n",
    "    eval_harmonic.append(sum2)\n",
    "    \n",
    "    #print (\"Harmonic mean for npad = \",npad,\" = \", sum2)\n",
    "    \n",
    "    end = npad+1\n",
    "    current_paddle = start\n",
    "    \n",
    "    # run the simulation n_trys times\n",
    "    for j in range(n_trys):\n",
    "        \n",
    "        # run the simulation until the frog reaches the other side\n",
    "        while current_paddle < end:\n",
    "            # choose a random jump size between 1 and the number of lilypads left to jump\n",
    "            paddle_choices = []\n",
    "            probs = []\n",
    "            for i in range(current_paddle+1, end+1):\n",
    "                paddle_choices.append(i)\n",
    "                probs.append(1/(i-current_paddle))\n",
    "                \n",
    "            jump = random.choices(paddle_choices, weights=probs, k=1)[0]\n",
    "            #print (\"Jump = \",jump)\n",
    "            \n",
    "            # jump ahead\n",
    "            current_paddle = current_paddle + jump\n",
    "            #print (\"Now at \",current_paddle)\n",
    "            \n",
    "            # keep track of the number of jumps\n",
    "            jumpsum = jumpsum + 1\n",
    "            \n",
    "        # reset the frog to the start for the next simulation\n",
    "        current_paddle = start\n",
    "        #print (\"j = %d, Total_jumps = %d\" % (j,jumpsum))\n",
    "        \n",
    "        # keep track of the total number of jumps for all simulations\n",
    "        total_jumps = total_jumps + jumpsum\n",
    "        \n",
    "        # reset the jumpsum for the next simulation\n",
    "        jumpsum = 0\n",
    "    \n",
    "    #print (npad,total_jumps,n_trys)\n",
    "\n",
    "    # calculate the expectation value\n",
    "    expectation_value = total_jumps/n_trys*1.0\n",
    "    \n",
    "    # store the expectation value and the error on the expectation value for plotting\n",
    "    y.append(expectation_value)\n",
    "    sigma.append(expectation_value*1/np.sqrt(n_trys))\n",
    "    \n",
    "    # reset the total number of jumps for all simulations, for the next value of npad\n",
    "    total_jumps = 0\n",
    "    \n",
    "    print (\"Expectation value for n = %d is %f\" % (npad,expectation_value))\n",
    "  "
   ],
   "metadata": {
    "collapsed": false,
    "ExecuteTime": {
     "end_time": "2023-11-29T16:49:54.180870900Z",
     "start_time": "2023-11-29T16:49:12.816188400Z"
    }
   },
   "id": "1b3a4d62bcf04c14"
  },
  {
   "cell_type": "code",
   "execution_count": 29,
   "outputs": [
    {
     "data": {
      "text/plain": "<ErrorbarContainer object of 3 artists>"
     },
     "execution_count": 29,
     "metadata": {},
     "output_type": "execute_result"
    },
    {
     "data": {
      "text/plain": "<Figure size 1500x800 with 1 Axes>",
      "image/png": "[encoded data removed]"
     },
     "metadata": {},
     "output_type": "display_data"
    }
   ],
   "source": [
    "# plot the results\n",
    "\n",
    "fig = plt.figure(figsize=(15,8))\n",
    "ax1 = fig.add_subplot(111)\n",
    "\n",
    "ax1.set_title(\"Frog Jumps Forward with Probability Inverse to Length\")\n",
    "ax1.set_xlabel('N')\n",
    "ax1.set_ylabel('Expected Number of Jumps / N')\n",
    "ax1.set_xlim(-1,n+1)\n",
    "#ax1.set_yscale(\"log\")\n",
    "#ax1.set_xscale(\"log\")\n",
    "ax1.grid(True)\n",
    "\n",
    "ax1.errorbar(x,y,yerr=sigma,fmt='o')\n"
   ],
   "metadata": {
    "collapsed": false,
    "ExecuteTime": {
     "end_time": "2023-11-29T16:50:19.038944100Z",
     "start_time": "2023-11-29T16:50:18.785513600Z"
    }
   },
   "id": "902600daa9131b3c"
  },
  {
   "cell_type": "code",
   "execution_count": null,
   "outputs": [],
   "source": [],
   "metadata": {
    "collapsed": false
   },
   "id": "a95ae8dec5333728"
  }
 ],
 "metadata": {
  "kernelspec": {
   "display_name": "Python 3",
   "language": "python",
   "name": "python3"
  },
  "language_info": {
   "codemirror_mode": {
    "name": "ipython",
    "version": 2
   },
   "file_extension": ".py",
   "mimetype": "text/x-python",
   "name": "python",
   "nbconvert_exporter": "python",
   "pygments_lexer": "ipython2",
   "version": "2.7.6"
  }
 },
 "nbformat": 4,
 "nbformat_minor": 5
}
