{
 "cells": [
  {
   "cell_type": "code",
   "execution_count": 14,
   "outputs": [],
   "source": [
    "import random\n",
    "import matplotlib.pyplot as plt"
   ],
   "metadata": {
    "collapsed": false,
    "ExecuteTime": {
     "end_time": "2023-12-09T03:32:40.893122200Z",
     "start_time": "2023-12-09T03:32:40.794829800Z"
    }
   },
   "id": "ce4d576c72104722"
  },
  {
   "cell_type": "markdown",
   "source": [
    "## Blackjack\n",
    "\n",
    "Blackjack is a game of cards where the goal is to get a hand that sums higher than the dealers hand, but is no higher than 21. This is a simulation of one player against the house using different hit thresholds.\n",
    "\n",
    "The hit threshold for this simulation is defined as the maximum sum the player can have before holding. Taking a look online, you will find various recommendations on where a player should set their hit threshold. I have seen values anywhere between 12 and 17 be stated as the optimal hit threshold. \n",
    "\n",
    "The goal of this simulation is to give insight on the viability of different hit thresholds in the game of blackjack.\n"
   ],
   "metadata": {
    "collapsed": false
   },
   "id": "11e7e6d1b84e8ab0"
  },
  {
   "cell_type": "code",
   "execution_count": 25,
   "outputs": [],
   "source": [
    "def draw_card(deck):\n",
    "    # Draw a random card from the deck\n",
    "    card = random.choice(deck)\n",
    "    deck.remove(card)\n",
    "    return card"
   ],
   "metadata": {
    "collapsed": false,
    "ExecuteTime": {
     "end_time": "2023-12-09T03:45:26.958493400Z",
     "start_time": "2023-12-09T03:45:26.918569900Z"
    }
   },
   "id": "f60aec588b78255b"
  },
  {
   "cell_type": "code",
   "execution_count": 26,
   "outputs": [],
   "source": [
    "def calculate_hand_value(hand):\n",
    "    # Calculate the value of a hand\n",
    "    values = {'2': 2, '3': 3, '4': 4, '5': 5, '6': 6, '7': 7, '8': 8, '9': 9, '10': 10, 'J': 10, 'Q': 10, 'K': 10, 'A': 11}\n",
    "    value = sum(values[card] for card in hand)\n",
    "    num_aces = hand.count('A')\n",
    "    \n",
    "    # Take aces into account if any exist\n",
    "    while value > 21 and num_aces:\n",
    "        value -= 10\n",
    "        num_aces -= 1\n",
    "    \n",
    "    return value"
   ],
   "metadata": {
    "collapsed": false,
    "ExecuteTime": {
     "end_time": "2023-12-09T03:45:28.157511600Z",
     "start_time": "2023-12-09T03:45:28.119988400Z"
    }
   },
   "id": "4ba94d3e235555d9"
  },
  {
   "cell_type": "code",
   "execution_count": 27,
   "outputs": [],
   "source": [
    "def play_blackjack(hit_threshold=16):\n",
    "    # Play a single game of blackjack and return True if the player wins, False otherwise\n",
    "    \n",
    "    # Initialize deck and hands\n",
    "    deck = 4 * ['2', '3', '4', '5', '6', '7', '8', '9', '10', 'J', 'Q', 'K', 'A']\n",
    "    player_hand = [draw_card(deck), draw_card(deck)]\n",
    "    dealer_hand = [draw_card(deck), draw_card(deck)]\n",
    "    \n",
    "    # Player's turn\n",
    "    while calculate_hand_value(player_hand) < hit_threshold:\n",
    "        player_hand.append(draw_card(deck))\n",
    "    \n",
    "    # Dealer's turn. The dealer must draw if their sum is less than 17. House rules\n",
    "    while calculate_hand_value(dealer_hand) < 17:\n",
    "        dealer_hand.append(draw_card(deck))\n",
    "    \n",
    "    # Determine winner\n",
    "    player_value = calculate_hand_value(player_hand)\n",
    "    dealer_value = calculate_hand_value(dealer_hand)\n",
    "\n",
    "    if player_value > 21 or (21 >= dealer_value >= player_value):\n",
    "        # Player loses\n",
    "        return False\n",
    "    elif player_value == dealer_value:\n",
    "        # Draw\n",
    "        return False\n",
    "    else:\n",
    "        # Player wins\n",
    "        return True"
   ],
   "metadata": {
    "collapsed": false,
    "ExecuteTime": {
     "end_time": "2023-12-09T03:45:30.876437200Z",
     "start_time": "2023-12-09T03:45:30.848806100Z"
    }
   },
   "id": "38531cd0649ba6ab"
  },
  {
   "cell_type": "code",
   "execution_count": 28,
   "outputs": [],
   "source": [
    "def calculate_win_probability(num_simulations, hit_threshold=16):\n",
    "    # Calculate the probability of winning based on the number of wins and total simulations\n",
    "    wins = sum(play_blackjack(hit_threshold) for _ in range(num_simulations))\n",
    "    win_probability = wins / num_simulations\n",
    "    return win_probability"
   ],
   "metadata": {
    "collapsed": false,
    "ExecuteTime": {
     "end_time": "2023-12-09T03:45:32.224584900Z",
     "start_time": "2023-12-09T03:45:32.192591300Z"
    }
   },
   "id": "3379c3fd3e41f064"
  },
  {
   "cell_type": "code",
   "execution_count": 35,
   "outputs": [
    {
     "data": {
      "text/plain": "<Figure size 640x480 with 1 Axes>",
      "image/png": "[encoded data removed]"
     },
     "metadata": {},
     "output_type": "display_data"
    }
   ],
   "source": [
    "num_simulations = 10000\n",
    "hit_thresholds = [12, 13, 14, 15, 16, 17, 18, 19, 20]\n",
    "\n",
    "win_probabilities = [calculate_win_probability(num_simulations, hit_threshold=threshold) for threshold in hit_thresholds]\n",
    "\n",
    "plt.bar(hit_thresholds, win_probabilities, color='blue', alpha=0.7)\n",
    "plt.xlabel('Hit Threshold')\n",
    "plt.ylabel('Win Probability')\n",
    "plt.title('Blackjack Simulation Win Probabilities')\n",
    "plt.show()"
   ],
   "metadata": {
    "collapsed": false,
    "ExecuteTime": {
     "end_time": "2023-12-09T03:57:09.750260100Z",
     "start_time": "2023-12-09T03:57:06.839918100Z"
    }
   },
   "id": "16e7b90484762360"
  },
  {
   "cell_type": "markdown",
   "source": [
    "It looks like the internet is rightly conflicted. The win probabilities are typically all above 40% for hit thresholds 12 through 17. After running the simulation a few times on a higher number of simulations, it seems that a threshold of 14 or 15 is the optimal choice under these conditions."
   ],
   "metadata": {
    "collapsed": false
   },
   "id": "1c7e66d288ba8f2e"
  },
  {
   "cell_type": "markdown",
   "source": [
    "I know this isn't the most complicated or original choice for a simulation. I originally wanted to simulate Caravan from Fallout New Vegas but was running into some trouble with getting it to work, so I had to pivot. Good news is, this one actually works! "
   ],
   "metadata": {
    "collapsed": false
   },
   "id": "232929e350b13703"
  },
  {
   "cell_type": "code",
   "execution_count": null,
   "outputs": [],
   "source": [],
   "metadata": {
    "collapsed": false
   },
   "id": "25a436294f6927c0"
  }
 ],
 "metadata": {
  "kernelspec": {
   "display_name": "Python 3",
   "language": "python",
   "name": "python3"
  },
  "language_info": {
   "codemirror_mode": {
    "name": "ipython",
    "version": 2
   },
   "file_extension": ".py",
   "mimetype": "text/x-python",
   "name": "python",
   "nbconvert_exporter": "python",
   "pygments_lexer": "ipython2",
   "version": "2.7.6"
  }
 },
 "nbformat": 4,
 "nbformat_minor": 5
}
