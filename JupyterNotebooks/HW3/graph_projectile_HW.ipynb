{
 "cells": [
  {
   "cell_type": "code",
   "execution_count": 45,
   "metadata": {
    "ExecuteTime": {
     "end_time": "2023-12-08T18:13:13.724316600Z",
     "start_time": "2023-12-08T18:13:13.687977400Z"
    }
   },
   "outputs": [],
   "source": [
    "from array import array\n",
    "import numpy as np\n",
    "import math"
   ]
  },
  {
   "cell_type": "markdown",
   "source": [
    "# Projectile Motion with Air Resistance\n",
    "\n",
    "Projectile motion in two dimensions is governed by a fairly simple set of coupled differential equations:\n",
    "\n",
    "The acceleration components are defined as:\n",
    "\n",
    "$$ a_x(t) = \\frac{F_x(t)}{m} = \\frac{d v_x(t)}{dt}$$\n",
    "$$ a_y(t) = \\frac{F_y(t)}{m} = \\frac{d v_y(t)}{dt}$$\n",
    "\n",
    "The velocity components are defined as:\n",
    "\n",
    "$$ v_x(t) = \\frac{d x(t)}{dt}$$\n",
    "$$ v_y(t) = \\frac{d y(t)}{dt}$$\n",
    "\n",
    "In the previous example, with no air resistance, we saw that for these differential equations, the midpoint method gave the most accurate numerical answers, for a given timestep.  We will use the midpoint method again here, but we will need to modify the acceleration components to include the effects of air resistance.  The force of air resistance is given by:\n",
    "\n",
    "$$ F_{air} = -\\frac{1}{2} C_d \\rho A v^2 $$\n",
    "\n",
    "where $C_d$ is the drag coefficient, $\\rho$ is the density of air, $A$ is the cross-sectional area of the projectile, and $v$ is the magnitude of the velocity of the projectile.  The direction of the force is opposite the direction of the velocity.  The acceleration components are then:\n",
    "\n",
    "$$ a_x(t) = \\frac{F_x(t)}{m} = \\frac{d v_x(t)}{dt} = -\\frac{1}{2} C_d \\rho A \\frac{v_x(t)}{m} v(t)$$\n",
    "$$ a_y(t) = \\frac{F_y(t)}{m} = \\frac{d v_y(t)}{dt} = -\\frac{1}{2} C_d \\rho A \\frac{v_y(t)}{m} v(t) - g$$\n",
    "\n",
    "where $g$ is the acceleration due to gravity.  We can simplify these equations by defining a constant:\n",
    "\n",
    "$$ k = -\\frac{1}{2} C_d \\rho A \\frac{1}{m}$$\n",
    "\n",
    "and then the acceleration components become:\n",
    "\n",
    "$$ a_x(t) = \\frac{d v_x(t)}{dt} = k v(t) v_x(t)$$\n",
    "$$ a_y(t) = \\frac{d v_y(t)}{dt} = k v(t) v_y(t) - g$$\n",
    "\n",
    "We can then use the midpoint method to solve these differential equations.\n",
    "\n",
    "As before, we will always need to know a set of initial conditions:  the initial velocity in the x- and y-directions, and the initial position in the x- and y-directions:  $v_x(0) = v_{x0}, v_y(0) = v_{y0}, x(0) = x_0, y(0) = y_0$"
   ],
   "metadata": {
    "collapsed": false
   }
  },
  {
   "cell_type": "code",
   "execution_count": 46,
   "metadata": {
    "ExecuteTime": {
     "end_time": "2023-12-08T18:13:13.762559800Z",
     "start_time": "2023-12-08T18:13:13.707325100Z"
    }
   },
   "outputs": [],
   "source": []
  },
  {
   "cell_type": "code",
   "execution_count": 46,
   "metadata": {
    "ExecuteTime": {
     "end_time": "2023-12-08T18:13:13.762559800Z",
     "start_time": "2023-12-08T18:13:13.710732Z"
    }
   },
   "outputs": [],
   "source": []
  },
  {
   "cell_type": "markdown",
   "source": [
    "## Question 1a"
   ],
   "metadata": {
    "collapsed": false
   }
  },
  {
   "cell_type": "code",
   "execution_count": 46,
   "outputs": [],
   "source": [
    "# Initial Conditions\n",
    "speed = 55.8\n",
    "theta = 45.0\n",
    "y1 = 0.0\n",
    "\n",
    "\n",
    "# Other constants - golf ball - D = 0.0427m, m = 0.04593kg\n",
    "Cd = 0.20 # drag coefficient\n",
    "area = 0.001432 # cross sectional area of projectile\n",
    "grav = 9.81 # gravitional acceleration\n",
    "mass = 0.04593 # mass in kg\n",
    "rho = 1.225 # density of air (kg/m^3)\n",
    "air_const = -0.5*Cd*rho*area/mass\n",
    "Pi = math.pi"
   ],
   "metadata": {
    "collapsed": false,
    "ExecuteTime": {
     "start_time": "2023-12-08T18:13:13.695489Z"
    }
   }
  },
  {
   "cell_type": "code",
   "execution_count": 47,
   "metadata": {
    "ExecuteTime": {
     "end_time": "2023-12-08T18:13:13.808086200Z",
     "start_time": "2023-12-08T18:13:13.718222900Z"
    }
   },
   "outputs": [],
   "source": [
    "def calculate_range(theta):\n",
    "    r1 = array('d')\n",
    "    v1 = array('d')\n",
    "    rec = array('d')\n",
    "    vec = array('d')\n",
    "    accelec = array('d')\n",
    "    \n",
    "    r1.append(0)\n",
    "    r1.append(y1)\n",
    "    v1.append(speed * math.cos(theta*Pi/180))\n",
    "    v1.append(speed * math.sin(theta*Pi/180))\n",
    "    \n",
    "    rec.append(r1[0])\n",
    "    rec.append(r1[1])\n",
    "    vec.append(v1[0])\n",
    "    vec.append(v1[1])\n",
    "    accelec.append(0)\n",
    "    accelec.append(0)\n",
    "    \n",
    "    tau = 0.02  # timestep\n",
    "    max_step = 1000000 # max number of steps\n",
    "    \n",
    "    for i in range(1, max_step+1):\n",
    "        t = (i-1) * tau\n",
    "        \n",
    "        # We're going to use the Euler-Cromer method to do this\n",
    "        norm_vec = math.sqrt(vec[0]*vec[0] + vec[1]*vec[1])\n",
    "        accelec[0] = air_const * norm_vec * vec[0]\n",
    "        accelec[1] = air_const * norm_vec * vec[1] - grav\n",
    "        vec[0] = vec[0] + tau * accelec[0]\n",
    "        vec[1] = vec[1] + tau * accelec[1]\n",
    "        rec[0] = rec[0] + tau * vec[0]\n",
    "        rec[1] = rec[1] + tau * vec[1]\n",
    "        \n",
    "        if rec[1] < 0 and vec[1] < 0:\n",
    "            return rec[0]   #when the projectile hits the ground\n",
    "        \n",
    "    return 0    # just in case something goes wrong"
   ]
  },
  {
   "cell_type": "code",
   "execution_count": 48,
   "metadata": {
    "ExecuteTime": {
     "end_time": "2023-12-08T18:13:13.808086200Z",
     "start_time": "2023-12-08T18:13:13.725279500Z"
    }
   },
   "outputs": [],
   "source": [
    "# Set up some variables to reassign later\n",
    "optimal_launch_angle = 0\n",
    "max_range = 0"
   ]
  },
  {
   "cell_type": "code",
   "execution_count": 49,
   "metadata": {
    "ExecuteTime": {
     "end_time": "2023-12-08T18:13:13.810086300Z",
     "start_time": "2023-12-08T18:13:13.737628700Z"
    }
   },
   "outputs": [
    {
     "name": "stdout",
     "output_type": "stream",
     "text": [
      "Optimal launch angle: 39.0\n",
      "Maximum range: 174.07799096283523\n"
     ]
    }
   ],
   "source": [
    "for angle in range(1,91):\n",
    "    theta = float(angle)\n",
    "    range_at_angle = calculate_range(theta)\n",
    "    if range_at_angle > max_range:\n",
    "        max_range = range_at_angle\n",
    "        optimal_launch_angle = theta\n",
    "\n",
    "print(\"Optimal launch angle:\", optimal_launch_angle)\n",
    "print(\"Maximum range:\", max_range)"
   ]
  },
  {
   "cell_type": "markdown",
   "source": [
    "## Question 1b"
   ],
   "metadata": {
    "collapsed": false
   }
  },
  {
   "cell_type": "code",
   "execution_count": 50,
   "outputs": [],
   "source": [
    "# Initial Conditions - baseball edition\n",
    "speed = 44.704  # 100mph in m/s\n",
    "theta = 45.0\n",
    "y1 = 1.0\n",
    "\n",
    "\n",
    "# Other constants - golf ball - D = 0.075m, m = 0.149kg\n",
    "Cd = 0.20 # drag coefficient\n",
    "area = 0.004416 # cross sectional area of baseball\n",
    "grav = 9.81 # gravitional acceleration\n",
    "mass = 0.149 # mass in kg\n",
    "rho = 1.225 # density of air (kg/m^3)\n",
    "air_const = -0.5*Cd*rho*area/mass"
   ],
   "metadata": {
    "collapsed": false,
    "ExecuteTime": {
     "end_time": "2023-12-08T18:21:44.053303300Z",
     "start_time": "2023-12-08T18:21:44.042903100Z"
    }
   }
  },
  {
   "cell_type": "code",
   "execution_count": 51,
   "outputs": [],
   "source": [
    "# Set up some variables to reassign later\n",
    "optimal_launch_angle = 0\n",
    "max_range = 0"
   ],
   "metadata": {
    "collapsed": false,
    "ExecuteTime": {
     "end_time": "2023-12-08T18:21:59.960651Z",
     "start_time": "2023-12-08T18:21:59.918237800Z"
    }
   }
  },
  {
   "cell_type": "code",
   "execution_count": 54,
   "outputs": [
    {
     "name": "stdout",
     "output_type": "stream",
     "text": [
      "Optimal launch angle: 42.0 degrees\n",
      "Maximum range: 134.13852112804258 m/s\n"
     ]
    }
   ],
   "source": [
    "for angle in range(1,91):\n",
    "    theta = float(angle)\n",
    "    range_at_angle = calculate_range(theta)\n",
    "    if range_at_angle > max_range:\n",
    "        max_range = range_at_angle\n",
    "        optimal_launch_angle = theta\n",
    "\n",
    "print(\"Optimal launch angle:\", optimal_launch_angle, \"degrees\")\n",
    "print(\"Maximum range:\", max_range, \"m/s\")"
   ],
   "metadata": {
    "collapsed": false,
    "ExecuteTime": {
     "end_time": "2023-12-08T18:25:18.814793700Z",
     "start_time": "2023-12-08T18:25:18.804313400Z"
    }
   }
  },
  {
   "cell_type": "markdown",
   "source": [
    "### These results look accurate based on the baseball website provided in the assignment. I would attach a image of it but I can't figure out how :("
   ],
   "metadata": {
    "collapsed": false
   }
  },
  {
   "cell_type": "code",
   "execution_count": null,
   "outputs": [],
   "source": [],
   "metadata": {
    "collapsed": false
   }
  }
 ],
 "metadata": {
  "kernelspec": {
   "display_name": "Python 3",
   "language": "python",
   "name": "python3"
  },
  "language_info": {
   "codemirror_mode": {
    "name": "ipython",
    "version": 3
   },
   "file_extension": ".py",
   "mimetype": "text/x-python",
   "name": "python",
   "nbconvert_exporter": "python",
   "pygments_lexer": "ipython3",
   "version": "3.6.8"
  }
 },
 "nbformat": 4,
 "nbformat_minor": 2
}
